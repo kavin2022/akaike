{
 "cells": [
  {
   "cell_type": "markdown",
   "id": "da46ad4d",
   "metadata": {},
   "source": [
    "# CODE DESCRIPTION\n",
    "1. This code takes the label_data from the processed data and builds a model to categorize the rice_type given area\n",
    "2. and exports the finalized model as finalized_model.pkl"
   ]
  },
  {
   "cell_type": "code",
   "execution_count": 1,
   "id": "7e96f861",
   "metadata": {},
   "outputs": [],
   "source": [
    "import numpy as np\n",
    "import pandas as pd\n",
    "\n",
    "import matplotlib.pyplot as plt\n",
    "from matplotlib.cbook import boxplot_stats\n",
    "import seaborn as sns\n",
    "\n",
    "from sklearn.model_selection import train_test_split\n",
    "\n",
    "from sklearn.preprocessing import LabelEncoder\n",
    "\n",
    "from sklearn.linear_model import LogisticRegression\n",
    "from sklearn.tree import DecisionTreeClassifier\n",
    "from sklearn.ensemble import RandomForestClassifier\n",
    "from sklearn.model_selection import RandomizedSearchCV\n",
    "from sklearn.metrics import roc_curve, auc , make_scorer , roc_auc_score\n",
    "import pickle"
   ]
  },
  {
   "cell_type": "code",
   "execution_count": 2,
   "id": "62dea4cc",
   "metadata": {},
   "outputs": [],
   "source": [
    "combined = pd.read_csv('processed_data/label_data.csv',index_col = 0)"
   ]
  },
  {
   "cell_type": "code",
   "execution_count": 3,
   "id": "99aab4c3",
   "metadata": {},
   "outputs": [
    {
     "data": {
      "text/html": [
       "<div>\n",
       "<style scoped>\n",
       "    .dataframe tbody tr th:only-of-type {\n",
       "        vertical-align: middle;\n",
       "    }\n",
       "\n",
       "    .dataframe tbody tr th {\n",
       "        vertical-align: top;\n",
       "    }\n",
       "\n",
       "    .dataframe thead th {\n",
       "        text-align: right;\n",
       "    }\n",
       "</style>\n",
       "<table border=\"1\" class=\"dataframe\">\n",
       "  <thead>\n",
       "    <tr style=\"text-align: right;\">\n",
       "      <th></th>\n",
       "      <th>area</th>\n",
       "      <th>rice_type</th>\n",
       "    </tr>\n",
       "  </thead>\n",
       "  <tbody>\n",
       "    <tr>\n",
       "      <th>0</th>\n",
       "      <td>862.5</td>\n",
       "      <td>broken</td>\n",
       "    </tr>\n",
       "    <tr>\n",
       "      <th>1</th>\n",
       "      <td>0.0</td>\n",
       "      <td>broken</td>\n",
       "    </tr>\n",
       "    <tr>\n",
       "      <th>2</th>\n",
       "      <td>1409.0</td>\n",
       "      <td>broken</td>\n",
       "    </tr>\n",
       "    <tr>\n",
       "      <th>3</th>\n",
       "      <td>1516.0</td>\n",
       "      <td>broken</td>\n",
       "    </tr>\n",
       "    <tr>\n",
       "      <th>4</th>\n",
       "      <td>1484.5</td>\n",
       "      <td>broken</td>\n",
       "    </tr>\n",
       "    <tr>\n",
       "      <th>...</th>\n",
       "      <td>...</td>\n",
       "      <td>...</td>\n",
       "    </tr>\n",
       "    <tr>\n",
       "      <th>5973</th>\n",
       "      <td>2012.5</td>\n",
       "      <td>full</td>\n",
       "    </tr>\n",
       "    <tr>\n",
       "      <th>5974</th>\n",
       "      <td>516.5</td>\n",
       "      <td>full</td>\n",
       "    </tr>\n",
       "    <tr>\n",
       "      <th>5975</th>\n",
       "      <td>1841.0</td>\n",
       "      <td>full</td>\n",
       "    </tr>\n",
       "    <tr>\n",
       "      <th>5976</th>\n",
       "      <td>164.5</td>\n",
       "      <td>full</td>\n",
       "    </tr>\n",
       "    <tr>\n",
       "      <th>5977</th>\n",
       "      <td>415.0</td>\n",
       "      <td>full</td>\n",
       "    </tr>\n",
       "  </tbody>\n",
       "</table>\n",
       "<p>5978 rows × 2 columns</p>\n",
       "</div>"
      ],
      "text/plain": [
       "        area rice_type\n",
       "0      862.5    broken\n",
       "1        0.0    broken\n",
       "2     1409.0    broken\n",
       "3     1516.0    broken\n",
       "4     1484.5    broken\n",
       "...      ...       ...\n",
       "5973  2012.5      full\n",
       "5974   516.5      full\n",
       "5975  1841.0      full\n",
       "5976   164.5      full\n",
       "5977   415.0      full\n",
       "\n",
       "[5978 rows x 2 columns]"
      ]
     },
     "execution_count": 3,
     "metadata": {},
     "output_type": "execute_result"
    }
   ],
   "source": [
    "combined"
   ]
  },
  {
   "cell_type": "markdown",
   "id": "ec7687a5",
   "metadata": {},
   "source": [
    "# EDA"
   ]
  },
  {
   "cell_type": "code",
   "execution_count": 4,
   "id": "2c80274c",
   "metadata": {
    "scrolled": false
   },
   "outputs": [
    {
     "data": {
      "text/plain": [
       "<AxesSubplot: title={'center': 'Data distribution'}, xlabel='rice_type', ylabel='area'>"
      ]
     },
     "execution_count": 4,
     "metadata": {},
     "output_type": "execute_result"
    },
    {
     "data": {
      "image/png": "[encoded data removed]",
      "text/plain": [
       "<Figure size 640x480 with 1 Axes>"
      ]
     },
     "metadata": {},
     "output_type": "display_data"
    }
   ],
   "source": [
    "broken = combined[combined['rice_type'] == 'broken']\n",
    "full = combined[combined['rice_type']== 'full']\n",
    "sns_plot = sns.boxplot(\n",
    "    data=combined,\n",
    "    x = combined['rice_type'],y = combined['area'],\n",
    "    palette=[sns.xkcd_rgb[\"pale red\"], sns.xkcd_rgb[\"medium green\"]],\n",
    "    showmeans=True,\n",
    "    whis=1.5\n",
    ")\n",
    "plt.title('Data distribution')\n",
    "fig = sns_plot.get_figure()\n",
    "fig.savefig(\"boxplot.png\")\n",
    "sns_plot"
   ]
  },
  {
   "cell_type": "code",
   "execution_count": 5,
   "id": "18d01244",
   "metadata": {},
   "outputs": [],
   "source": [
    "# outliers might to due error in image detection algorithm as it detects some rices together as one "
   ]
  },
  {
   "cell_type": "markdown",
   "id": "a6a05065",
   "metadata": {},
   "source": [
    "# removing outliers"
   ]
  },
  {
   "cell_type": "code",
   "execution_count": 6,
   "id": "93b23240",
   "metadata": {},
   "outputs": [],
   "source": [
    "def remove_outliers(data):\n",
    "    q1, q3 = np.percentile(data, [25, 75])\n",
    "    iqr = q3 - q1\n",
    "    lower_bound = q1 - (1.5 * iqr)\n",
    "    upper_bound = q3 + (1.5 * iqr)\n",
    "    return lower_bound,upper_bound\n",
    "lb,ub = remove_outliers(broken['area'])\n",
    "index1 = broken[broken['area']>ub].index\n",
    "combined.drop(index1,inplace=True)"
   ]
  },
  {
   "cell_type": "code",
   "execution_count": 7,
   "id": "f46f7389",
   "metadata": {},
   "outputs": [],
   "source": [
    "lb,ub = remove_outliers(full['area'])\n",
    "index1 = full[full['area']>ub].index\n",
    "combined.drop(index1,inplace=True)"
   ]
  },
  {
   "cell_type": "code",
   "execution_count": 8,
   "id": "1708ff46",
   "metadata": {},
   "outputs": [
    {
     "data": {
      "text/plain": [
       "<AxesSubplot: title={'center': 'Data distribution'}, xlabel='rice_type', ylabel='area'>"
      ]
     },
     "execution_count": 8,
     "metadata": {},
     "output_type": "execute_result"
    },
    {
     "data": {
      "image/png": "[encoded data removed]",
      "text/plain": [
       "<Figure size 640x480 with 1 Axes>"
      ]
     },
     "metadata": {},
     "output_type": "display_data"
    }
   ],
   "source": [
    "broken = combined[combined['rice_type'] == 'broken']\n",
    "full = combined[combined['rice_type']== 'full']\n",
    "sns_plot = sns.boxplot(\n",
    "    data=combined,\n",
    "    x = combined['rice_type'],y = combined['area'],\n",
    "    palette=[sns.xkcd_rgb[\"pale red\"], sns.xkcd_rgb[\"medium green\"]],\n",
    "    showmeans=True,\n",
    "    whis=1.5\n",
    ")\n",
    "plt.title('Data distribution')\n",
    "fig = sns_plot.get_figure()\n",
    "fig.savefig(\"boxplot_outliers_removed.png\")\n",
    "sns_plot"
   ]
  },
  {
   "cell_type": "code",
   "execution_count": 9,
   "id": "52721e4f",
   "metadata": {},
   "outputs": [
    {
     "data": {
      "text/plain": [
       "full      3395\n",
       "broken    2272\n",
       "Name: rice_type, dtype: int64"
      ]
     },
     "execution_count": 9,
     "metadata": {},
     "output_type": "execute_result"
    }
   ],
   "source": [
    "combined['rice_type'].value_counts()"
   ]
  },
  {
   "cell_type": "code",
   "execution_count": 10,
   "id": "57223904",
   "metadata": {},
   "outputs": [],
   "source": [
    "# we need to balanced this dataset"
   ]
  },
  {
   "cell_type": "markdown",
   "id": "14078f8d",
   "metadata": {},
   "source": [
    "# data splitting"
   ]
  },
  {
   "cell_type": "code",
   "execution_count": 11,
   "id": "c351b5ca",
   "metadata": {},
   "outputs": [],
   "source": [
    "# need to use stratified sampling\n",
    "train,test = train_test_split(combined, test_size=0.2, random_state=42)"
   ]
  },
  {
   "cell_type": "code",
   "execution_count": 12,
   "id": "ed41c10c",
   "metadata": {},
   "outputs": [],
   "source": [
    "train_f = train.iloc[:,0]\n",
    "train_t = train.iloc[:,1]"
   ]
  },
  {
   "cell_type": "code",
   "execution_count": 13,
   "id": "aa0332d1",
   "metadata": {},
   "outputs": [],
   "source": [
    "test_f = test.iloc[:,0]\n",
    "test_t = test.iloc[:,1]"
   ]
  },
  {
   "cell_type": "markdown",
   "id": "31821173",
   "metadata": {},
   "source": [
    "# data encoding"
   ]
  },
  {
   "cell_type": "code",
   "execution_count": 14,
   "id": "91b1fc91",
   "metadata": {},
   "outputs": [],
   "source": [
    "# 0 - broken\n",
    "# 1- full\n",
    "\n",
    "# Initialize the label encoder\n",
    "le = LabelEncoder()\n",
    "\n",
    "# Encode the train target variable\n",
    "# # Fit the label encoder to the target variable\n",
    "le.fit(train_t)\n",
    "train_t_encoded = le.transform(train_t)\n",
    "train_t = train_t_encoded\n",
    "\n",
    "\n",
    "# Encode the test target variable\n",
    "le.fit(test_t)\n",
    "test_t_encoded = le.transform(test_t)\n",
    "test_t = test_t_encoded"
   ]
  },
  {
   "cell_type": "markdown",
   "id": "6cd6c97c",
   "metadata": {},
   "source": [
    "# model buliding"
   ]
  },
  {
   "cell_type": "markdown",
   "id": "89713f2a",
   "metadata": {},
   "source": [
    "1. logistic regression\n",
    "2. decision tree\n",
    "3. random forest"
   ]
  },
  {
   "cell_type": "markdown",
   "id": "28a544d5",
   "metadata": {},
   "source": [
    "### model 1"
   ]
  },
  {
   "cell_type": "code",
   "execution_count": 15,
   "id": "800b58eb",
   "metadata": {
    "scrolled": false
   },
   "outputs": [],
   "source": [
    "#model1\n",
    "# Initialize the logistic regression model\n",
    "log_reg = LogisticRegression(solver='saga')\n",
    "\n",
    "# Fit the model to the training data\n",
    "log_reg.fit(train_f.to_frame(), train_t)\n",
    "\n",
    "# Make predictions on the test data\n",
    "y_pred = log_reg.predict(test_f.to_frame())\n"
   ]
  },
  {
   "cell_type": "code",
   "execution_count": 16,
   "id": "32eac529",
   "metadata": {},
   "outputs": [
    {
     "name": "stdout",
     "output_type": "stream",
     "text": [
      "AUC for our classifier is: 0.5\n"
     ]
    },
    {
     "data": {
      "image/png": "[encoded data removed]",
      "text/plain": [
       "<Figure size 640x480 with 1 Axes>"
      ]
     },
     "metadata": {},
     "output_type": "display_data"
    }
   ],
   "source": [
    "fpr, tpr, threshold = roc_curve(test_t, y_pred)\n",
    "roc_auc = auc(fpr, tpr)\n",
    "\n",
    "# Printing AUC\n",
    "print(f\"AUC for our classifier is: {roc_auc}\")\n",
    "\n",
    "# Plotting the ROC\n",
    "plt.title('Receiver Operating Characteristic')\n",
    "plt.plot(fpr, tpr, 'b', label = 'AUC = %0.2f' % roc_auc)\n",
    "plt.legend(loc = 'lower right')\n",
    "plt.plot([0, 1], [0, 1],'r--')\n",
    "plt.xlim([0, 1])\n",
    "plt.ylim([0, 1])\n",
    "plt.ylabel('True Positive Rate')\n",
    "plt.xlabel('False Positive Rate')\n",
    "plt.show()"
   ]
  },
  {
   "cell_type": "markdown",
   "id": "89a8e18b",
   "metadata": {},
   "source": [
    "### model 2"
   ]
  },
  {
   "cell_type": "code",
   "execution_count": 17,
   "id": "02c36604",
   "metadata": {},
   "outputs": [
    {
     "name": "stdout",
     "output_type": "stream",
     "text": [
      "AUC for our classifier is: 0.5312455127652853\n"
     ]
    },
    {
     "data": {
      "image/png": "[encoded data removed]",
      "text/plain": [
       "<Figure size 640x480 with 1 Axes>"
      ]
     },
     "metadata": {},
     "output_type": "display_data"
    }
   ],
   "source": [
    "# Initialize the decision tree model\n",
    "dt = DecisionTreeClassifier()\n",
    "\n",
    "# Fit the model to the training data\n",
    "dt.fit(train_f.to_frame(), train_t)\n",
    "\n",
    "# Make predictions on the test data\n",
    "y_pred = dt.predict(test_f.to_frame())\n",
    "\n",
    "from sklearn.metrics import roc_curve, auc\n",
    "\n",
    "fpr, tpr, threshold = roc_curve(test_t, y_pred)\n",
    "roc_auc = auc(fpr, tpr)\n",
    "\n",
    "# Printing AUC\n",
    "print(f\"AUC for our classifier is: {roc_auc}\")\n",
    "\n",
    "# Plotting the ROC\n",
    "plt.title('Receiver Operating Characteristic')\n",
    "plt.plot(fpr, tpr, 'b', label = 'AUC = %0.2f' % roc_auc)\n",
    "plt.legend(loc = 'lower right')\n",
    "plt.plot([0, 1], [0, 1],'r--')\n",
    "plt.xlim([0, 1])\n",
    "plt.ylim([0, 1])\n",
    "plt.ylabel('True Positive Rate')\n",
    "plt.xlabel('False Positive Rate')\n",
    "plt.show()"
   ]
  },
  {
   "cell_type": "markdown",
   "id": "7d118d41",
   "metadata": {},
   "source": [
    "#### hyperparameter tuning - model 2"
   ]
  },
  {
   "cell_type": "code",
   "execution_count": 18,
   "id": "a08ca811",
   "metadata": {},
   "outputs": [
    {
     "name": "stdout",
     "output_type": "stream",
     "text": [
      "Best parameters: {'min_samples_split': 72, 'min_samples_leaf': 37, 'max_depth': 95}\n",
      "Best AUC-ROC score: 0.53\n"
     ]
    }
   ],
   "source": [
    "# Define the parameter grid to search\n",
    "param_grid = {'max_depth': range(1,100),\n",
    "              'min_samples_split': range(1,100),\n",
    "              'min_samples_leaf': range(1,100)}\n",
    "# Define the custom scoring function\n",
    "auc_scorer = make_scorer(roc_auc_score, greater_is_better=True)\n",
    "\n",
    "# Initialize the RandomizedSearchCV object\n",
    "random_search = RandomizedSearchCV(dt, param_distributions=param_grid, cv=5, n_jobs=-1, scoring=auc_scorer)\n",
    "\n",
    "# Fit the RandomizedSearchCV object to the training data\n",
    "random_search.fit(train_f.to_frame(),train_t)\n",
    "\n",
    "# Print the best parameters and the best score\n",
    "print(\"Best parameters: {}\".format(random_search.best_params_))\n",
    "print(\"Best AUC-ROC score: {:.2f}\".format(random_search.best_score_))\n"
   ]
  },
  {
   "cell_type": "markdown",
   "id": "27f234b9",
   "metadata": {},
   "source": [
    "### model 3"
   ]
  },
  {
   "cell_type": "markdown",
   "id": "c388dd5e",
   "metadata": {},
   "source": [
    "#### with hyperparameter tuning"
   ]
  },
  {
   "cell_type": "code",
   "execution_count": 19,
   "id": "3c3a1f87",
   "metadata": {},
   "outputs": [
    {
     "name": "stdout",
     "output_type": "stream",
     "text": [
      "Best parameters: {'verbose': 1, 'random_state': 42, 'oob_score': False, 'n_jobs': -1, 'n_estimators': 10, 'min_samples_split': 9, 'min_samples_leaf': 98, 'max_features': 'log2', 'max_depth': 58, 'criterion': 'entropy', 'bootstrap': True}\n",
      "Best AUC-ROC score: 0.53\n"
     ]
    },
    {
     "name": "stderr",
     "output_type": "stream",
     "text": [
      "[Parallel(n_jobs=-1)]: Using backend ThreadingBackend with 12 concurrent workers.\n",
      "[Parallel(n_jobs=-1)]: Done  10 out of  10 | elapsed:    0.0s finished\n"
     ]
    }
   ],
   "source": [
    "# Define the parameter grid to search\n",
    "param_dist = {'n_estimators': [10,50,200],\n",
    "              'max_depth': range(1,100),\n",
    "              'min_samples_split': range(1,100),\n",
    "              'min_samples_leaf': range(1,100),\n",
    "              'max_features': ['auto', 'sqrt', 'log2'],\n",
    "              'criterion': ['gini', 'entropy'],\n",
    "              'bootstrap': [True],\n",
    "              'oob_score': [True, False],\n",
    "              'verbose': [0, 1],\n",
    "              'random_state': [42],\n",
    "              'n_jobs': [-1]\n",
    "             }\n",
    "\n",
    "# Define the custom scoring function\n",
    "auc_scorer = make_scorer(roc_auc_score, greater_is_better=True)\n",
    "\n",
    "# Initialize the RandomForestClassifier \n",
    "rf = RandomForestClassifier()\n",
    "\n",
    "# Initialize the RandomizedSearchCV object\n",
    "random_search = RandomizedSearchCV(rf, param_distributions=param_dist, cv=5, n_jobs=-1, scoring=auc_scorer,refit = True)\n",
    "\n",
    "# Fit the RandomizedSearchCV object to the training data\n",
    "random_search.fit(train_f.to_frame(),train_t)\n",
    "\n",
    "# Print the best parameters and the best score\n",
    "print(\"Best parameters: {}\".format(random_search.best_params_))\n",
    "print(\"Best AUC-ROC score: {:.2f}\".format(random_search.best_score_))\n"
   ]
  },
  {
   "cell_type": "markdown",
   "id": "9de7689b",
   "metadata": {},
   "source": [
    "# Exporting model"
   ]
  },
  {
   "cell_type": "code",
   "execution_count": 20,
   "id": "fcf8f992",
   "metadata": {},
   "outputs": [],
   "source": [
    "final_model = random_search.best_estimator_\n",
    "filename = 'finalized_model.pkl'\n",
    "pickle.dump(final_model, open(filename, 'wb'))"
   ]
  },
  {
   "cell_type": "code",
   "execution_count": 21,
   "id": "a6326b5f",
   "metadata": {},
   "outputs": [],
   "source": [
    "loaded_model = pickle.load(open(filename, 'rb'))"
   ]
  },
  {
   "cell_type": "code",
   "execution_count": 22,
   "id": "3122a57f",
   "metadata": {},
   "outputs": [
    {
     "name": "stderr",
     "output_type": "stream",
     "text": [
      "[Parallel(n_jobs=10)]: Using backend ThreadingBackend with 10 concurrent workers.\n",
      "[Parallel(n_jobs=10)]: Done   2 out of  10 | elapsed:    0.0s remaining:    0.0s\n",
      "[Parallel(n_jobs=10)]: Done  10 out of  10 | elapsed:    0.0s finished\n"
     ]
    }
   ],
   "source": [
    "y_pred = loaded_model.predict(test_f.to_frame())"
   ]
  },
  {
   "cell_type": "code",
   "execution_count": 23,
   "id": "aa53a6a6",
   "metadata": {},
   "outputs": [
    {
     "data": {
      "text/plain": [
       "0.5317768013555038"
      ]
     },
     "execution_count": 23,
     "metadata": {},
     "output_type": "execute_result"
    }
   ],
   "source": [
    "from sklearn.metrics import roc_curve, auc\n",
    "\n",
    "fpr, tpr, threshold = roc_curve(test_t, y_pred)\n",
    "roc_auc = auc(fpr, tpr)\n",
    "roc_auc"
   ]
  }
 ],
 "metadata": {
  "kernelspec": {
   "display_name": "Python 3 (ipykernel)",
   "language": "python",
   "name": "python3"
  },
  "language_info": {
   "codemirror_mode": {
    "name": "ipython",
    "version": 3
   },
   "file_extension": ".py",
   "mimetype": "text/x-python",
   "name": "python",
   "nbconvert_exporter": "python",
   "pygments_lexer": "ipython3",
   "version": "3.10.9"
  }
 },
 "nbformat": 4,
 "nbformat_minor": 5
}
