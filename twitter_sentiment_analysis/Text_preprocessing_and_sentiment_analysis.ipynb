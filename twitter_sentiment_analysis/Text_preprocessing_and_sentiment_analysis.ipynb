{
 "cells": [
  {
   "cell_type": "code",
   "execution_count": 1,
   "id": "a959db5a",
   "metadata": {},
   "outputs": [
    {
     "name": "stderr",
     "output_type": "stream",
     "text": [
      "[nltk_data] Downloading package wordnet to C:\\Users\\the old\n",
      "[nltk_data]     one\\AppData\\Roaming\\nltk_data...\n",
      "[nltk_data]   Package wordnet is already up-to-date!\n",
      "[nltk_data] Downloading package omw-1.4 to C:\\Users\\the old\n",
      "[nltk_data]     one\\AppData\\Roaming\\nltk_data...\n",
      "[nltk_data]   Package omw-1.4 is already up-to-date!\n",
      "[nltk_data] Downloading package averaged_perceptron_tagger to\n",
      "[nltk_data]     C:\\Users\\the old one\\AppData\\Roaming\\nltk_data...\n",
      "[nltk_data]   Package averaged_perceptron_tagger is already up-to-\n",
      "[nltk_data]       date!\n",
      "Using state Tamil Nadu server backend.\n"
     ]
    }
   ],
   "source": [
    "import json\n",
    "import pandas as pd\n",
    "import numpy as np\n",
    "import re\n",
    "import spacy\n",
    "import warnings\n",
    "warnings.filterwarnings('ignore')\n",
    "\n",
    "import nltk\n",
    "from nltk.tokenize import RegexpTokenizer\n",
    "from nltk.corpus import stopwords \n",
    "from nltk.stem import WordNetLemmatizer\n",
    "from nltk.tokenize import word_tokenize\n",
    "\n",
    "from vaderSentiment.vaderSentiment import SentimentIntensityAnalyzer\n",
    "from nltk.sentiment.util import *\n",
    "\n",
    "nltk.download('wordnet')\n",
    "nltk.download('omw-1.4')\n",
    "nltk.download('averaged_perceptron_tagger')\n",
    "from nltk.stem import WordNetLemmatizer\n",
    "from nltk.corpus import wordnet\n",
    "from nltk.tokenize import RegexpTokenizer\n",
    "from datetime import datetime\n",
    "\n",
    "from langdetect import detect\n",
    "import translators as ts\n",
    "import translators.server as tss"
   ]
  },
  {
   "cell_type": "code",
   "execution_count": 2,
   "id": "df00f02a",
   "metadata": {},
   "outputs": [],
   "source": [
    "\n",
    "def time_se():\n",
    "    now = datetime.now()\n",
    "    current_time = now.strftime(\"%H:%M:%S\")\n",
    "    return (current_time)"
   ]
  },
  {
   "cell_type": "markdown",
   "id": "e417900f",
   "metadata": {},
   "source": [
    "# loading data"
   ]
  },
  {
   "cell_type": "code",
   "execution_count": 3,
   "id": "4dc6590a",
   "metadata": {},
   "outputs": [],
   "source": [
    "tweet_df = pd.read_json('tweets.json',orient = 'index')\n",
    "# datatime is not need for the analysis so dropped\n",
    "tweet_df.reset_index(drop = True,inplace = True)"
   ]
  },
  {
   "cell_type": "code",
   "execution_count": 4,
   "id": "93b4c767",
   "metadata": {
    "scrolled": false
   },
   "outputs": [
    {
     "data": {
      "text/html": [
       "<div>\n",
       "<style scoped>\n",
       "    .dataframe tbody tr th:only-of-type {\n",
       "        vertical-align: middle;\n",
       "    }\n",
       "\n",
       "    .dataframe tbody tr th {\n",
       "        vertical-align: top;\n",
       "    }\n",
       "\n",
       "    .dataframe thead th {\n",
       "        text-align: right;\n",
       "    }\n",
       "</style>\n",
       "<table border=\"1\" class=\"dataframe\">\n",
       "  <thead>\n",
       "    <tr style=\"text-align: right;\">\n",
       "      <th></th>\n",
       "      <th>tweet_author</th>\n",
       "      <th>tweet_text</th>\n",
       "    </tr>\n",
       "  </thead>\n",
       "  <tbody>\n",
       "    <tr>\n",
       "      <th>0</th>\n",
       "      <td>Hematopoiesis News</td>\n",
       "      <td>⚕️ Scientists conducted a Phase II study of ac...</td>\n",
       "    </tr>\n",
       "    <tr>\n",
       "      <th>1</th>\n",
       "      <td>Michael Wang, MD</td>\n",
       "      <td>This phase 2 Acalabrutinib-Venetoclax (AV) tri...</td>\n",
       "    </tr>\n",
       "    <tr>\n",
       "      <th>2</th>\n",
       "      <td>1stOncology</td>\n",
       "      <td>#NICE backs #AstraZenecas #Calquence for #CLL ...</td>\n",
       "    </tr>\n",
       "    <tr>\n",
       "      <th>3</th>\n",
       "      <td>Toby Eyre</td>\n",
       "      <td>#acalabrutinib is a valuable option in pts int...</td>\n",
       "    </tr>\n",
       "    <tr>\n",
       "      <th>4</th>\n",
       "      <td>Lymphoma Hub</td>\n",
       "      <td>NICE has recommended the use of acalabrutinib ...</td>\n",
       "    </tr>\n",
       "    <tr>\n",
       "      <th>...</th>\n",
       "      <td>...</td>\n",
       "      <td>...</td>\n",
       "    </tr>\n",
       "    <tr>\n",
       "      <th>43342</th>\n",
       "      <td>Joy is a Lifestyle</td>\n",
       "      <td>Hanging out with Friends! :) #FF #CLL #Happine...</td>\n",
       "    </tr>\n",
       "    <tr>\n",
       "      <th>43343</th>\n",
       "      <td>𝓒𝓻𝓲𝔃𝔃𝔂 𝓟𝓮𝓻𝓻𝔂🌹</td>\n",
       "      <td>Hanging out with Friends! :) #FF #CLL #Happine...</td>\n",
       "    </tr>\n",
       "    <tr>\n",
       "      <th>43344</th>\n",
       "      <td>IQWiG</td>\n",
       "      <td>Zusatznutzen von #Idelalisib ist weder für #CL...</td>\n",
       "    </tr>\n",
       "    <tr>\n",
       "      <th>43345</th>\n",
       "      <td>Medibooks</td>\n",
       "      <td>#Hematología PTK2 EXPRESSION AND IMMUNOCHEMOTH...</td>\n",
       "    </tr>\n",
       "    <tr>\n",
       "      <th>43346</th>\n",
       "      <td>Medibooks</td>\n",
       "      <td>#Hematología MUTATIONS IN TLR/MYD88 PATHWAY ID...</td>\n",
       "    </tr>\n",
       "  </tbody>\n",
       "</table>\n",
       "<p>43347 rows × 2 columns</p>\n",
       "</div>"
      ],
      "text/plain": [
       "             tweet_author                                         tweet_text\n",
       "0      Hematopoiesis News  ⚕️ Scientists conducted a Phase II study of ac...\n",
       "1        Michael Wang, MD  This phase 2 Acalabrutinib-Venetoclax (AV) tri...\n",
       "2             1stOncology  #NICE backs #AstraZenecas #Calquence for #CLL ...\n",
       "3               Toby Eyre  #acalabrutinib is a valuable option in pts int...\n",
       "4            Lymphoma Hub  NICE has recommended the use of acalabrutinib ...\n",
       "...                   ...                                                ...\n",
       "43342  Joy is a Lifestyle  Hanging out with Friends! :) #FF #CLL #Happine...\n",
       "43343       𝓒𝓻𝓲𝔃𝔃𝔂 𝓟𝓮𝓻𝓻𝔂🌹  Hanging out with Friends! :) #FF #CLL #Happine...\n",
       "43344               IQWiG  Zusatznutzen von #Idelalisib ist weder für #CL...\n",
       "43345           Medibooks  #Hematología PTK2 EXPRESSION AND IMMUNOCHEMOTH...\n",
       "43346           Medibooks  #Hematología MUTATIONS IN TLR/MYD88 PATHWAY ID...\n",
       "\n",
       "[43347 rows x 2 columns]"
      ]
     },
     "execution_count": 4,
     "metadata": {},
     "output_type": "execute_result"
    }
   ],
   "source": [
    "tweet_df"
   ]
  },
  {
   "cell_type": "markdown",
   "id": "885adf2f",
   "metadata": {},
   "source": [
    "# Text cleaning"
   ]
  },
  {
   "cell_type": "markdown",
   "id": "2799b4ea",
   "metadata": {},
   "source": [
    "## steps\n",
    "1. removing urls\n",
    "2. removing special characters\n",
    "3. translating to english\n",
    "4. removing punctuation\n",
    "5. stop word removal\n",
    "6. converting to root words - lemmatization\n"
   ]
  },
  {
   "cell_type": "markdown",
   "id": "82f992a9",
   "metadata": {},
   "source": [
    "# Text preprocessing"
   ]
  },
  {
   "cell_type": "markdown",
   "id": "b9fa6d7d",
   "metadata": {},
   "source": [
    "## 1. removing urls"
   ]
  },
  {
   "cell_type": "code",
   "execution_count": 5,
   "id": "8fa51c80",
   "metadata": {},
   "outputs": [
    {
     "data": {
      "text/html": [
       "<div>\n",
       "<style scoped>\n",
       "    .dataframe tbody tr th:only-of-type {\n",
       "        vertical-align: middle;\n",
       "    }\n",
       "\n",
       "    .dataframe tbody tr th {\n",
       "        vertical-align: top;\n",
       "    }\n",
       "\n",
       "    .dataframe thead th {\n",
       "        text-align: right;\n",
       "    }\n",
       "</style>\n",
       "<table border=\"1\" class=\"dataframe\">\n",
       "  <thead>\n",
       "    <tr style=\"text-align: right;\">\n",
       "      <th></th>\n",
       "      <th>tweet_author</th>\n",
       "      <th>tweet_text</th>\n",
       "      <th>cleaned_tweet</th>\n",
       "    </tr>\n",
       "  </thead>\n",
       "  <tbody>\n",
       "    <tr>\n",
       "      <th>0</th>\n",
       "      <td>Hematopoiesis News</td>\n",
       "      <td>⚕️ Scientists conducted a Phase II study of ac...</td>\n",
       "      <td>⚕️ Scientists conducted a Phase II study of ac...</td>\n",
       "    </tr>\n",
       "    <tr>\n",
       "      <th>1</th>\n",
       "      <td>Michael Wang, MD</td>\n",
       "      <td>This phase 2 Acalabrutinib-Venetoclax (AV) tri...</td>\n",
       "      <td>This phase 2 Acalabrutinib-Venetoclax (AV) tri...</td>\n",
       "    </tr>\n",
       "    <tr>\n",
       "      <th>2</th>\n",
       "      <td>1stOncology</td>\n",
       "      <td>#NICE backs #AstraZenecas #Calquence for #CLL ...</td>\n",
       "      <td>#NICE backs #AstraZenecas #Calquence for #CLL</td>\n",
       "    </tr>\n",
       "    <tr>\n",
       "      <th>3</th>\n",
       "      <td>Toby Eyre</td>\n",
       "      <td>#acalabrutinib is a valuable option in pts int...</td>\n",
       "      <td>#acalabrutinib is a valuable option in pts int...</td>\n",
       "    </tr>\n",
       "    <tr>\n",
       "      <th>4</th>\n",
       "      <td>Lymphoma Hub</td>\n",
       "      <td>NICE has recommended the use of acalabrutinib ...</td>\n",
       "      <td>NICE has recommended the use of acalabrutinib ...</td>\n",
       "    </tr>\n",
       "  </tbody>\n",
       "</table>\n",
       "</div>"
      ],
      "text/plain": [
       "         tweet_author                                         tweet_text  \\\n",
       "0  Hematopoiesis News  ⚕️ Scientists conducted a Phase II study of ac...   \n",
       "1    Michael Wang, MD  This phase 2 Acalabrutinib-Venetoclax (AV) tri...   \n",
       "2         1stOncology  #NICE backs #AstraZenecas #Calquence for #CLL ...   \n",
       "3           Toby Eyre  #acalabrutinib is a valuable option in pts int...   \n",
       "4        Lymphoma Hub  NICE has recommended the use of acalabrutinib ...   \n",
       "\n",
       "                                       cleaned_tweet  \n",
       "0  ⚕️ Scientists conducted a Phase II study of ac...  \n",
       "1  This phase 2 Acalabrutinib-Venetoclax (AV) tri...  \n",
       "2    #NICE backs #AstraZenecas #Calquence for #CLL    \n",
       "3  #acalabrutinib is a valuable option in pts int...  \n",
       "4  NICE has recommended the use of acalabrutinib ...  "
      ]
     },
     "execution_count": 5,
     "metadata": {},
     "output_type": "execute_result"
    }
   ],
   "source": [
    "# removing urls\n",
    "tweet_df[\"cleaned_tweet\"] = tweet_df['tweet_text'].apply(lambda x: re.sub(r'https?:\\/\\/\\S+', ' ', x))\n",
    "tweet_df.head()"
   ]
  },
  {
   "cell_type": "markdown",
   "id": "3c01915d",
   "metadata": {},
   "source": [
    "## 2. removing special characters\n"
   ]
  },
  {
   "cell_type": "code",
   "execution_count": 6,
   "id": "3711eb06",
   "metadata": {},
   "outputs": [
    {
     "data": {
      "text/html": [
       "<div>\n",
       "<style scoped>\n",
       "    .dataframe tbody tr th:only-of-type {\n",
       "        vertical-align: middle;\n",
       "    }\n",
       "\n",
       "    .dataframe tbody tr th {\n",
       "        vertical-align: top;\n",
       "    }\n",
       "\n",
       "    .dataframe thead th {\n",
       "        text-align: right;\n",
       "    }\n",
       "</style>\n",
       "<table border=\"1\" class=\"dataframe\">\n",
       "  <thead>\n",
       "    <tr style=\"text-align: right;\">\n",
       "      <th></th>\n",
       "      <th>tweet_author</th>\n",
       "      <th>tweet_text</th>\n",
       "      <th>cleaned_tweet</th>\n",
       "    </tr>\n",
       "  </thead>\n",
       "  <tbody>\n",
       "    <tr>\n",
       "      <th>0</th>\n",
       "      <td>Hematopoiesis News</td>\n",
       "      <td>⚕️ Scientists conducted a Phase II study of ac...</td>\n",
       "      <td>Scientists conducted a Phase II study of ac...</td>\n",
       "    </tr>\n",
       "    <tr>\n",
       "      <th>1</th>\n",
       "      <td>Michael Wang, MD</td>\n",
       "      <td>This phase 2 Acalabrutinib-Venetoclax (AV) tri...</td>\n",
       "      <td>This phase 2 Acalabrutinib Venetoclax  AV  tri...</td>\n",
       "    </tr>\n",
       "    <tr>\n",
       "      <th>2</th>\n",
       "      <td>1stOncology</td>\n",
       "      <td>#NICE backs #AstraZenecas #Calquence for #CLL ...</td>\n",
       "      <td>NICE backs  AstraZenecas  Calquence for  CLL</td>\n",
       "    </tr>\n",
       "    <tr>\n",
       "      <th>3</th>\n",
       "      <td>Toby Eyre</td>\n",
       "      <td>#acalabrutinib is a valuable option in pts int...</td>\n",
       "      <td>acalabrutinib is a valuable option in pts int...</td>\n",
       "    </tr>\n",
       "    <tr>\n",
       "      <th>4</th>\n",
       "      <td>Lymphoma Hub</td>\n",
       "      <td>NICE has recommended the use of acalabrutinib ...</td>\n",
       "      <td>NICE has recommended the use of acalabrutinib ...</td>\n",
       "    </tr>\n",
       "  </tbody>\n",
       "</table>\n",
       "</div>"
      ],
      "text/plain": [
       "         tweet_author                                         tweet_text  \\\n",
       "0  Hematopoiesis News  ⚕️ Scientists conducted a Phase II study of ac...   \n",
       "1    Michael Wang, MD  This phase 2 Acalabrutinib-Venetoclax (AV) tri...   \n",
       "2         1stOncology  #NICE backs #AstraZenecas #Calquence for #CLL ...   \n",
       "3           Toby Eyre  #acalabrutinib is a valuable option in pts int...   \n",
       "4        Lymphoma Hub  NICE has recommended the use of acalabrutinib ...   \n",
       "\n",
       "                                       cleaned_tweet  \n",
       "0     Scientists conducted a Phase II study of ac...  \n",
       "1  This phase 2 Acalabrutinib Venetoclax  AV  tri...  \n",
       "2     NICE backs  AstraZenecas  Calquence for  CLL    \n",
       "3   acalabrutinib is a valuable option in pts int...  \n",
       "4  NICE has recommended the use of acalabrutinib ...  "
      ]
     },
     "execution_count": 6,
     "metadata": {},
     "output_type": "execute_result"
    }
   ],
   "source": [
    "# removing special characters\n",
    "tweet_df['cleaned_tweet'] = tweet_df['cleaned_tweet'].apply(lambda x: re.sub(r'[^\\w\\s]', ' ', x))\n",
    "tweet_df.head()"
   ]
  },
  {
   "cell_type": "markdown",
   "id": "ee33caa5",
   "metadata": {},
   "source": [
    "## 3. translating to english"
   ]
  },
  {
   "cell_type": "markdown",
   "id": "25521afc",
   "metadata": {},
   "source": [
    "### translating other languages to english"
   ]
  },
  {
   "cell_type": "markdown",
   "id": "ade3ba80",
   "metadata": {},
   "source": [
    "steps\n",
    "1. identifying the non english tweets\n",
    "2. translating to english"
   ]
  },
  {
   "cell_type": "markdown",
   "id": "39975b91",
   "metadata": {},
   "source": [
    "### 1. identifying the non english tweets"
   ]
  },
  {
   "cell_type": "markdown",
   "id": "208fb13a",
   "metadata": {},
   "source": [
    "#### 1. identifying the languages of tweets"
   ]
  },
  {
   "cell_type": "code",
   "execution_count": 7,
   "id": "4eeea40e",
   "metadata": {},
   "outputs": [],
   "source": [
    "def detect_lang(text):\n",
    "    try:\n",
    "        return detect(text)\n",
    "    except: # to handle language not in the corpus\n",
    "        return text"
   ]
  },
  {
   "cell_type": "code",
   "execution_count": 8,
   "id": "ae106900",
   "metadata": {},
   "outputs": [],
   "source": [
    "# detected_text = tweet_df['cleaned_tweet'].apply(detect_lang)"
   ]
  },
  {
   "cell_type": "code",
   "execution_count": 9,
   "id": "f4ad73be",
   "metadata": {},
   "outputs": [],
   "source": [
    "# detected_text = detected_text.to_frame()\n",
    "# detected_text = detected_text.rename(columns={'cleaned_tweet': 'language_detected'})\n",
    "# detected_text.to_csv('language_detected_v1.csv')"
   ]
  },
  {
   "cell_type": "markdown",
   "id": "7cf4654a",
   "metadata": {},
   "source": [
    "#### getting tweets which need to be translated"
   ]
  },
  {
   "cell_type": "code",
   "execution_count": 10,
   "id": "5492e168",
   "metadata": {},
   "outputs": [],
   "source": [
    "# output of above commented code\n",
    "detected_text = pd.read_csv('language_detected_v1.csv',index_col = 0)"
   ]
  },
  {
   "cell_type": "code",
   "execution_count": 11,
   "id": "707aae91",
   "metadata": {},
   "outputs": [
    {
     "data": {
      "text/html": [
       "<div>\n",
       "<style scoped>\n",
       "    .dataframe tbody tr th:only-of-type {\n",
       "        vertical-align: middle;\n",
       "    }\n",
       "\n",
       "    .dataframe tbody tr th {\n",
       "        vertical-align: top;\n",
       "    }\n",
       "\n",
       "    .dataframe thead th {\n",
       "        text-align: right;\n",
       "    }\n",
       "</style>\n",
       "<table border=\"1\" class=\"dataframe\">\n",
       "  <thead>\n",
       "    <tr style=\"text-align: right;\">\n",
       "      <th></th>\n",
       "      <th>language_detected</th>\n",
       "    </tr>\n",
       "  </thead>\n",
       "  <tbody>\n",
       "    <tr>\n",
       "      <th>34</th>\n",
       "      <td>ca</td>\n",
       "    </tr>\n",
       "    <tr>\n",
       "      <th>43</th>\n",
       "      <td>es</td>\n",
       "    </tr>\n",
       "    <tr>\n",
       "      <th>52</th>\n",
       "      <td></td>\n",
       "    </tr>\n",
       "    <tr>\n",
       "      <th>57</th>\n",
       "      <td>de</td>\n",
       "    </tr>\n",
       "    <tr>\n",
       "      <th>74</th>\n",
       "      <td>fr</td>\n",
       "    </tr>\n",
       "    <tr>\n",
       "      <th>...</th>\n",
       "      <td>...</td>\n",
       "    </tr>\n",
       "    <tr>\n",
       "      <th>43333</th>\n",
       "      <td>af</td>\n",
       "    </tr>\n",
       "    <tr>\n",
       "      <th>43334</th>\n",
       "      <td>es</td>\n",
       "    </tr>\n",
       "    <tr>\n",
       "      <th>43336</th>\n",
       "      <td>es</td>\n",
       "    </tr>\n",
       "    <tr>\n",
       "      <th>43344</th>\n",
       "      <td>de</td>\n",
       "    </tr>\n",
       "    <tr>\n",
       "      <th>43345</th>\n",
       "      <td>es</td>\n",
       "    </tr>\n",
       "  </tbody>\n",
       "</table>\n",
       "<p>4064 rows × 1 columns</p>\n",
       "</div>"
      ],
      "text/plain": [
       "      language_detected\n",
       "34                   ca\n",
       "43                   es\n",
       "52                     \n",
       "57                   de\n",
       "74                   fr\n",
       "...                 ...\n",
       "43333                af\n",
       "43334                es\n",
       "43336                es\n",
       "43344                de\n",
       "43345                es\n",
       "\n",
       "[4064 rows x 1 columns]"
      ]
     },
     "execution_count": 11,
     "metadata": {},
     "output_type": "execute_result"
    }
   ],
   "source": [
    "index_to_translate = detected_text[detected_text['language_detected'] != 'en']\n",
    "index_to_translate"
   ]
  },
  {
   "cell_type": "code",
   "execution_count": 12,
   "id": "13219eee",
   "metadata": {},
   "outputs": [],
   "source": [
    "tweets_to_translate = tweet_df.copy(deep = True)"
   ]
  },
  {
   "cell_type": "code",
   "execution_count": 13,
   "id": "1de61c34",
   "metadata": {},
   "outputs": [],
   "source": [
    "tweets_to_translate = tweets_to_translate.iloc[index_to_translate.index,2]"
   ]
  },
  {
   "cell_type": "code",
   "execution_count": 14,
   "id": "95b63976",
   "metadata": {
    "scrolled": true
   },
   "outputs": [
    {
     "data": {
      "text/plain": [
       "34       IQVIA RDS Argentina S R L  representa en Argen...\n",
       "43       Acalabrutinib alcanza el objetivo primario de ...\n",
       "52                                                        \n",
       "57       News von     Lesen Sie jetzt den vollständigen...\n",
       "74         AMMHémato \\nL acalabrutinib un nouveau trait...\n",
       "                               ...                        \n",
       "43333                My homie  amp  my Bestfriend      CLL\n",
       "43334    Yo  sinceramente  he empezado este año muchisi...\n",
       "43336     Hematología STIMULATION OF SURFACE IGM OF CHR...\n",
       "43344    Zusatznutzen von  Idelalisib ist weder für  CL...\n",
       "43345     Hematología PTK2 EXPRESSION AND IMMUNOCHEMOTH...\n",
       "Name: cleaned_tweet, Length: 4064, dtype: object"
      ]
     },
     "execution_count": 14,
     "metadata": {},
     "output_type": "execute_result"
    }
   ],
   "source": [
    "tweets_to_translate"
   ]
  },
  {
   "cell_type": "markdown",
   "id": "b6098fd0",
   "metadata": {},
   "source": [
    "#### 2. translating to english"
   ]
  },
  {
   "cell_type": "code",
   "execution_count": 15,
   "id": "6b51634c",
   "metadata": {},
   "outputs": [],
   "source": [
    "def translate(text):\n",
    "    try:\n",
    "        return tss.google(text, to_language='en')\n",
    "    except:\n",
    "        return text"
   ]
  },
  {
   "cell_type": "code",
   "execution_count": 16,
   "id": "40485582",
   "metadata": {},
   "outputs": [],
   "source": [
    "# start = time_se()\n",
    "# print(f\"start = {start}\")"
   ]
  },
  {
   "cell_type": "code",
   "execution_count": 17,
   "id": "adc643de",
   "metadata": {},
   "outputs": [],
   "source": [
    "# # translating \n",
    "# tweets_to_translate = tweets_to_translate.apply(translate)"
   ]
  },
  {
   "cell_type": "code",
   "execution_count": 18,
   "id": "ea8fabba",
   "metadata": {},
   "outputs": [],
   "source": [
    "# end = time_se()\n",
    "# print(f'end = {end}')"
   ]
  },
  {
   "cell_type": "code",
   "execution_count": 19,
   "id": "2d8edf4c",
   "metadata": {},
   "outputs": [],
   "source": [
    "# tweets_to_translate.to_csv('translated_tweets_v2.csv')"
   ]
  },
  {
   "cell_type": "markdown",
   "id": "515d1acd",
   "metadata": {},
   "source": [
    "#### replacing translated text in tweet_df"
   ]
  },
  {
   "cell_type": "code",
   "execution_count": 20,
   "id": "834334e8",
   "metadata": {},
   "outputs": [],
   "source": [
    "# # output of above commented code\n",
    "# translated_tweets = pd.read_csv('translated_tweets_v2.csv')\n",
    "# translated_tweets.set_index('Unnamed: 0',inplace = True)"
   ]
  },
  {
   "cell_type": "code",
   "execution_count": 21,
   "id": "3c1363e0",
   "metadata": {},
   "outputs": [],
   "source": [
    "# tweet_df.update(translated_tweets)"
   ]
  },
  {
   "cell_type": "code",
   "execution_count": 22,
   "id": "ffe4bb45",
   "metadata": {},
   "outputs": [],
   "source": [
    "# storing cleaned and translated tweets \n",
    "tweet_df.to_csv('cleaned_and_translated_tweets_v3.csv')"
   ]
  },
  {
   "cell_type": "markdown",
   "id": "185cf738",
   "metadata": {},
   "source": [
    "## removing missing data"
   ]
  },
  {
   "cell_type": "code",
   "execution_count": 23,
   "id": "393fe393",
   "metadata": {},
   "outputs": [],
   "source": [
    "tweet_data = pd.read_csv(\"cleaned_and_translated_tweets_v3.csv\",index_col = 0)"
   ]
  },
  {
   "cell_type": "code",
   "execution_count": 24,
   "id": "8b395c7b",
   "metadata": {},
   "outputs": [
    {
     "name": "stdout",
     "output_type": "stream",
     "text": [
      "<class 'pandas.core.frame.DataFrame'>\n",
      "Int64Index: 43347 entries, 0 to 43346\n",
      "Data columns (total 3 columns):\n",
      " #   Column         Non-Null Count  Dtype \n",
      "---  ------         --------------  ----- \n",
      " 0   tweet_author   43347 non-null  object\n",
      " 1   tweet_text     43347 non-null  object\n",
      " 2   cleaned_tweet  43347 non-null  object\n",
      "dtypes: object(3)\n",
      "memory usage: 1.3+ MB\n"
     ]
    }
   ],
   "source": [
    "tweet_data.info()"
   ]
  },
  {
   "cell_type": "code",
   "execution_count": 25,
   "id": "8851025f",
   "metadata": {
    "scrolled": true
   },
   "outputs": [
    {
     "data": {
      "text/html": [
       "<div>\n",
       "<style scoped>\n",
       "    .dataframe tbody tr th:only-of-type {\n",
       "        vertical-align: middle;\n",
       "    }\n",
       "\n",
       "    .dataframe tbody tr th {\n",
       "        vertical-align: top;\n",
       "    }\n",
       "\n",
       "    .dataframe thead th {\n",
       "        text-align: right;\n",
       "    }\n",
       "</style>\n",
       "<table border=\"1\" class=\"dataframe\">\n",
       "  <thead>\n",
       "    <tr style=\"text-align: right;\">\n",
       "      <th></th>\n",
       "      <th>tweet_author</th>\n",
       "      <th>tweet_text</th>\n",
       "      <th>cleaned_tweet</th>\n",
       "    </tr>\n",
       "  </thead>\n",
       "  <tbody>\n",
       "  </tbody>\n",
       "</table>\n",
       "</div>"
      ],
      "text/plain": [
       "Empty DataFrame\n",
       "Columns: [tweet_author, tweet_text, cleaned_tweet]\n",
       "Index: []"
      ]
     },
     "execution_count": 25,
     "metadata": {},
     "output_type": "execute_result"
    }
   ],
   "source": [
    "tweet_data[tweet_data['cleaned_tweet'].isnull()].head()"
   ]
  },
  {
   "cell_type": "code",
   "execution_count": 26,
   "id": "1bbf9cd8",
   "metadata": {},
   "outputs": [],
   "source": [
    "# clearing missing values\n",
    "tweet_data.dropna(subset = ['cleaned_tweet'],inplace = True)"
   ]
  },
  {
   "cell_type": "code",
   "execution_count": 27,
   "id": "30e82c3c",
   "metadata": {},
   "outputs": [
    {
     "name": "stdout",
     "output_type": "stream",
     "text": [
      "<class 'pandas.core.frame.DataFrame'>\n",
      "Int64Index: 43347 entries, 0 to 43346\n",
      "Data columns (total 3 columns):\n",
      " #   Column         Non-Null Count  Dtype \n",
      "---  ------         --------------  ----- \n",
      " 0   tweet_author   43347 non-null  object\n",
      " 1   tweet_text     43347 non-null  object\n",
      " 2   cleaned_tweet  43347 non-null  object\n",
      "dtypes: object(3)\n",
      "memory usage: 1.3+ MB\n"
     ]
    }
   ],
   "source": [
    "tweet_data.info()"
   ]
  },
  {
   "cell_type": "markdown",
   "id": "0141af03",
   "metadata": {},
   "source": [
    "## 4. removing punctuation"
   ]
  },
  {
   "cell_type": "code",
   "execution_count": 28,
   "id": "e307cbd6",
   "metadata": {},
   "outputs": [],
   "source": [
    "tokenize_text = lambda text: \" \".join(nltk.tokenize.RegexpTokenizer('\\w+').tokenize(text))"
   ]
  },
  {
   "cell_type": "code",
   "execution_count": 29,
   "id": "f5319752",
   "metadata": {},
   "outputs": [],
   "source": [
    "tweet_data['cleaned_tweet'] = tweet_data['cleaned_tweet'].apply(tokenize_text)"
   ]
  },
  {
   "cell_type": "code",
   "execution_count": 30,
   "id": "448458f4",
   "metadata": {
    "scrolled": false
   },
   "outputs": [
    {
     "data": {
      "text/html": [
       "<div>\n",
       "<style scoped>\n",
       "    .dataframe tbody tr th:only-of-type {\n",
       "        vertical-align: middle;\n",
       "    }\n",
       "\n",
       "    .dataframe tbody tr th {\n",
       "        vertical-align: top;\n",
       "    }\n",
       "\n",
       "    .dataframe thead th {\n",
       "        text-align: right;\n",
       "    }\n",
       "</style>\n",
       "<table border=\"1\" class=\"dataframe\">\n",
       "  <thead>\n",
       "    <tr style=\"text-align: right;\">\n",
       "      <th></th>\n",
       "      <th>tweet_author</th>\n",
       "      <th>tweet_text</th>\n",
       "      <th>cleaned_tweet</th>\n",
       "    </tr>\n",
       "  </thead>\n",
       "  <tbody>\n",
       "    <tr>\n",
       "      <th>0</th>\n",
       "      <td>Hematopoiesis News</td>\n",
       "      <td>⚕️ Scientists conducted a Phase II study of ac...</td>\n",
       "      <td>Scientists conducted a Phase II study of ac...</td>\n",
       "    </tr>\n",
       "    <tr>\n",
       "      <th>1</th>\n",
       "      <td>Michael Wang, MD</td>\n",
       "      <td>This phase 2 Acalabrutinib-Venetoclax (AV) tri...</td>\n",
       "      <td>This phase 2 Acalabrutinib Venetoclax  AV  tri...</td>\n",
       "    </tr>\n",
       "    <tr>\n",
       "      <th>2</th>\n",
       "      <td>1stOncology</td>\n",
       "      <td>#NICE backs #AstraZenecas #Calquence for #CLL ...</td>\n",
       "      <td>NICE backs  AstraZenecas  Calquence for  CLL</td>\n",
       "    </tr>\n",
       "    <tr>\n",
       "      <th>3</th>\n",
       "      <td>Toby Eyre</td>\n",
       "      <td>#acalabrutinib is a valuable option in pts int...</td>\n",
       "      <td>acalabrutinib is a valuable option in pts int...</td>\n",
       "    </tr>\n",
       "    <tr>\n",
       "      <th>4</th>\n",
       "      <td>Lymphoma Hub</td>\n",
       "      <td>NICE has recommended the use of acalabrutinib ...</td>\n",
       "      <td>NICE has recommended the use of acalabrutinib ...</td>\n",
       "    </tr>\n",
       "    <tr>\n",
       "      <th>...</th>\n",
       "      <td>...</td>\n",
       "      <td>...</td>\n",
       "      <td>...</td>\n",
       "    </tr>\n",
       "    <tr>\n",
       "      <th>43342</th>\n",
       "      <td>Joy is a Lifestyle</td>\n",
       "      <td>Hanging out with Friends! :) #FF #CLL #Happine...</td>\n",
       "      <td>Hanging out with Friends      FF  CLL  Happine...</td>\n",
       "    </tr>\n",
       "    <tr>\n",
       "      <th>43343</th>\n",
       "      <td>𝓒𝓻𝓲𝔃𝔃𝔂 𝓟𝓮𝓻𝓻𝔂🌹</td>\n",
       "      <td>Hanging out with Friends! :) #FF #CLL #Happine...</td>\n",
       "      <td>Hanging out with Friends      FF  CLL  Happine...</td>\n",
       "    </tr>\n",
       "    <tr>\n",
       "      <th>43344</th>\n",
       "      <td>IQWiG</td>\n",
       "      <td>Zusatznutzen von #Idelalisib ist weder für #CL...</td>\n",
       "      <td>Zusatznutzen von  Idelalisib ist weder für  CL...</td>\n",
       "    </tr>\n",
       "    <tr>\n",
       "      <th>43345</th>\n",
       "      <td>Medibooks</td>\n",
       "      <td>#Hematología PTK2 EXPRESSION AND IMMUNOCHEMOTH...</td>\n",
       "      <td>Hematología PTK2 EXPRESSION AND IMMUNOCHEMOTH...</td>\n",
       "    </tr>\n",
       "    <tr>\n",
       "      <th>43346</th>\n",
       "      <td>Medibooks</td>\n",
       "      <td>#Hematología MUTATIONS IN TLR/MYD88 PATHWAY ID...</td>\n",
       "      <td>Hematología MUTATIONS IN TLR MYD88 PATHWAY ID...</td>\n",
       "    </tr>\n",
       "  </tbody>\n",
       "</table>\n",
       "<p>43347 rows × 3 columns</p>\n",
       "</div>"
      ],
      "text/plain": [
       "             tweet_author                                         tweet_text  \\\n",
       "0      Hematopoiesis News  ⚕️ Scientists conducted a Phase II study of ac...   \n",
       "1        Michael Wang, MD  This phase 2 Acalabrutinib-Venetoclax (AV) tri...   \n",
       "2             1stOncology  #NICE backs #AstraZenecas #Calquence for #CLL ...   \n",
       "3               Toby Eyre  #acalabrutinib is a valuable option in pts int...   \n",
       "4            Lymphoma Hub  NICE has recommended the use of acalabrutinib ...   \n",
       "...                   ...                                                ...   \n",
       "43342  Joy is a Lifestyle  Hanging out with Friends! :) #FF #CLL #Happine...   \n",
       "43343       𝓒𝓻𝓲𝔃𝔃𝔂 𝓟𝓮𝓻𝓻𝔂🌹  Hanging out with Friends! :) #FF #CLL #Happine...   \n",
       "43344               IQWiG  Zusatznutzen von #Idelalisib ist weder für #CL...   \n",
       "43345           Medibooks  #Hematología PTK2 EXPRESSION AND IMMUNOCHEMOTH...   \n",
       "43346           Medibooks  #Hematología MUTATIONS IN TLR/MYD88 PATHWAY ID...   \n",
       "\n",
       "                                           cleaned_tweet  \n",
       "0         Scientists conducted a Phase II study of ac...  \n",
       "1      This phase 2 Acalabrutinib Venetoclax  AV  tri...  \n",
       "2         NICE backs  AstraZenecas  Calquence for  CLL    \n",
       "3       acalabrutinib is a valuable option in pts int...  \n",
       "4      NICE has recommended the use of acalabrutinib ...  \n",
       "...                                                  ...  \n",
       "43342  Hanging out with Friends      FF  CLL  Happine...  \n",
       "43343  Hanging out with Friends      FF  CLL  Happine...  \n",
       "43344  Zusatznutzen von  Idelalisib ist weder für  CL...  \n",
       "43345   Hematología PTK2 EXPRESSION AND IMMUNOCHEMOTH...  \n",
       "43346   Hematología MUTATIONS IN TLR MYD88 PATHWAY ID...  \n",
       "\n",
       "[43347 rows x 3 columns]"
      ]
     },
     "execution_count": 30,
     "metadata": {},
     "output_type": "execute_result"
    }
   ],
   "source": [
    "tweet_df"
   ]
  },
  {
   "cell_type": "markdown",
   "id": "c5a30047",
   "metadata": {},
   "source": [
    "## 5. stopward removal"
   ]
  },
  {
   "cell_type": "code",
   "execution_count": 31,
   "id": "bcb1707b",
   "metadata": {},
   "outputs": [],
   "source": [
    "stop_words = set(stopwords.words('english'))"
   ]
  },
  {
   "cell_type": "code",
   "execution_count": 32,
   "id": "29689bba",
   "metadata": {},
   "outputs": [],
   "source": [
    "tweet_data['cleaned_tweet'] = tweet_data['cleaned_tweet'].map(lambda tweet : \" \".join([i for i in tweet.split() if i not in stop_words]))"
   ]
  },
  {
   "cell_type": "code",
   "execution_count": 33,
   "id": "c12068b3",
   "metadata": {},
   "outputs": [
    {
     "name": "stdout",
     "output_type": "stream",
     "text": [
      "----------------------------------original--------------------------------------------\n",
      "#Hematología MUTATIONS IN TLR/MYD88 PATHWAY IDENTIFY A SUBSET OF YOUNG CHRONIC LYMPHOCYTIC LEUKEMIA PATIENTS WITH… http://t.co/YzvK2n9UsZ\n",
      "----------------------------------cleaned--------------------------------------------\n",
      "Hematología MUTATIONS IN TLR MYD88 PATHWAY IDENTIFY A SUBSET OF YOUNG CHRONIC LYMPHOCYTIC LEUKEMIA PATIENTS WITH\n"
     ]
    }
   ],
   "source": [
    "#Checking the difference in the tweets and clean_tweets\n",
    "print('----------------------------------original--------------------------------------------')\n",
    "print(tweet_data['tweet_text'].iloc[-1])\n",
    "print('----------------------------------cleaned--------------------------------------------')\n",
    "print(tweet_data['cleaned_tweet'].iloc[-1])"
   ]
  },
  {
   "cell_type": "code",
   "execution_count": 34,
   "id": "c5995ce2",
   "metadata": {},
   "outputs": [
    {
     "data": {
      "text/html": [
       "<div>\n",
       "<style scoped>\n",
       "    .dataframe tbody tr th:only-of-type {\n",
       "        vertical-align: middle;\n",
       "    }\n",
       "\n",
       "    .dataframe tbody tr th {\n",
       "        vertical-align: top;\n",
       "    }\n",
       "\n",
       "    .dataframe thead th {\n",
       "        text-align: right;\n",
       "    }\n",
       "</style>\n",
       "<table border=\"1\" class=\"dataframe\">\n",
       "  <thead>\n",
       "    <tr style=\"text-align: right;\">\n",
       "      <th></th>\n",
       "      <th>tweet_author</th>\n",
       "      <th>tweet_text</th>\n",
       "      <th>cleaned_tweet</th>\n",
       "    </tr>\n",
       "  </thead>\n",
       "  <tbody>\n",
       "    <tr>\n",
       "      <th>0</th>\n",
       "      <td>Hematopoiesis News</td>\n",
       "      <td>⚕️ Scientists conducted a Phase II study of ac...</td>\n",
       "      <td>Scientists conducted Phase II study acalabruti...</td>\n",
       "    </tr>\n",
       "    <tr>\n",
       "      <th>1</th>\n",
       "      <td>Michael Wang, MD</td>\n",
       "      <td>This phase 2 Acalabrutinib-Venetoclax (AV) tri...</td>\n",
       "      <td>This phase 2 Acalabrutinib Venetoclax AV trial...</td>\n",
       "    </tr>\n",
       "    <tr>\n",
       "      <th>2</th>\n",
       "      <td>1stOncology</td>\n",
       "      <td>#NICE backs #AstraZenecas #Calquence for #CLL ...</td>\n",
       "      <td>NICE backs AstraZenecas Calquence CLL</td>\n",
       "    </tr>\n",
       "    <tr>\n",
       "      <th>3</th>\n",
       "      <td>Toby Eyre</td>\n",
       "      <td>#acalabrutinib is a valuable option in pts int...</td>\n",
       "      <td>acalabrutinib valuable option pts intolerant i...</td>\n",
       "    </tr>\n",
       "    <tr>\n",
       "      <th>4</th>\n",
       "      <td>Lymphoma Hub</td>\n",
       "      <td>NICE has recommended the use of acalabrutinib ...</td>\n",
       "      <td>NICE recommended use acalabrutinib patients tr...</td>\n",
       "    </tr>\n",
       "    <tr>\n",
       "      <th>...</th>\n",
       "      <td>...</td>\n",
       "      <td>...</td>\n",
       "      <td>...</td>\n",
       "    </tr>\n",
       "    <tr>\n",
       "      <th>43342</th>\n",
       "      <td>Joy is a Lifestyle</td>\n",
       "      <td>Hanging out with Friends! :) #FF #CLL #Happine...</td>\n",
       "      <td>Hanging Friends FF CLL Happiness</td>\n",
       "    </tr>\n",
       "    <tr>\n",
       "      <th>43343</th>\n",
       "      <td>𝓒𝓻𝓲𝔃𝔃𝔂 𝓟𝓮𝓻𝓻𝔂🌹</td>\n",
       "      <td>Hanging out with Friends! :) #FF #CLL #Happine...</td>\n",
       "      <td>Hanging Friends FF CLL Happiness</td>\n",
       "    </tr>\n",
       "    <tr>\n",
       "      <th>43344</th>\n",
       "      <td>IQWiG</td>\n",
       "      <td>Zusatznutzen von #Idelalisib ist weder für #CL...</td>\n",
       "      <td>Zusatznutzen von Idelalisib ist weder für CLL ...</td>\n",
       "    </tr>\n",
       "    <tr>\n",
       "      <th>43345</th>\n",
       "      <td>Medibooks</td>\n",
       "      <td>#Hematología PTK2 EXPRESSION AND IMMUNOCHEMOTH...</td>\n",
       "      <td>Hematología PTK2 EXPRESSION AND IMMUNOCHEMOTHE...</td>\n",
       "    </tr>\n",
       "    <tr>\n",
       "      <th>43346</th>\n",
       "      <td>Medibooks</td>\n",
       "      <td>#Hematología MUTATIONS IN TLR/MYD88 PATHWAY ID...</td>\n",
       "      <td>Hematología MUTATIONS IN TLR MYD88 PATHWAY IDE...</td>\n",
       "    </tr>\n",
       "  </tbody>\n",
       "</table>\n",
       "<p>43347 rows × 3 columns</p>\n",
       "</div>"
      ],
      "text/plain": [
       "             tweet_author                                         tweet_text  \\\n",
       "0      Hematopoiesis News  ⚕️ Scientists conducted a Phase II study of ac...   \n",
       "1        Michael Wang, MD  This phase 2 Acalabrutinib-Venetoclax (AV) tri...   \n",
       "2             1stOncology  #NICE backs #AstraZenecas #Calquence for #CLL ...   \n",
       "3               Toby Eyre  #acalabrutinib is a valuable option in pts int...   \n",
       "4            Lymphoma Hub  NICE has recommended the use of acalabrutinib ...   \n",
       "...                   ...                                                ...   \n",
       "43342  Joy is a Lifestyle  Hanging out with Friends! :) #FF #CLL #Happine...   \n",
       "43343       𝓒𝓻𝓲𝔃𝔃𝔂 𝓟𝓮𝓻𝓻𝔂🌹  Hanging out with Friends! :) #FF #CLL #Happine...   \n",
       "43344               IQWiG  Zusatznutzen von #Idelalisib ist weder für #CL...   \n",
       "43345           Medibooks  #Hematología PTK2 EXPRESSION AND IMMUNOCHEMOTH...   \n",
       "43346           Medibooks  #Hematología MUTATIONS IN TLR/MYD88 PATHWAY ID...   \n",
       "\n",
       "                                           cleaned_tweet  \n",
       "0      Scientists conducted Phase II study acalabruti...  \n",
       "1      This phase 2 Acalabrutinib Venetoclax AV trial...  \n",
       "2                  NICE backs AstraZenecas Calquence CLL  \n",
       "3      acalabrutinib valuable option pts intolerant i...  \n",
       "4      NICE recommended use acalabrutinib patients tr...  \n",
       "...                                                  ...  \n",
       "43342                   Hanging Friends FF CLL Happiness  \n",
       "43343                   Hanging Friends FF CLL Happiness  \n",
       "43344  Zusatznutzen von Idelalisib ist weder für CLL ...  \n",
       "43345  Hematología PTK2 EXPRESSION AND IMMUNOCHEMOTHE...  \n",
       "43346  Hematología MUTATIONS IN TLR MYD88 PATHWAY IDE...  \n",
       "\n",
       "[43347 rows x 3 columns]"
      ]
     },
     "execution_count": 34,
     "metadata": {},
     "output_type": "execute_result"
    }
   ],
   "source": [
    "tweet_data"
   ]
  },
  {
   "cell_type": "markdown",
   "id": "0be36f4d",
   "metadata": {},
   "source": [
    "## 6. lemmatization"
   ]
  },
  {
   "cell_type": "code",
   "execution_count": 35,
   "id": "759ef93f",
   "metadata": {},
   "outputs": [],
   "source": [
    "lemmatizer = WordNetLemmatizer()\n",
    "\n",
    "# convert nltk pos tag to wordnet pos tag\n",
    "def nltk_tag_to_wordnet_tag(nltk_tag):\n",
    "    if nltk_tag.startswith('J'):\n",
    "        return wordnet.ADJ\n",
    "    elif nltk_tag.startswith('V'):\n",
    "        return wordnet.VERB\n",
    "    elif nltk_tag.startswith('N'):\n",
    "        return wordnet.NOUN\n",
    "    elif nltk_tag.startswith('R'):\n",
    "        return wordnet.ADV\n",
    "    else:\n",
    "        return None\n",
    "\n",
    "lemmatizer = WordNetLemmatizer()\n",
    "\n",
    "def lemmatize_sentence(sentence):\n",
    "    nltk_tagged = nltk.pos_tag(nltk.word_tokenize(sentence))\n",
    "    wordnet_tagged = [(word, nltk_tag_to_wordnet_tag(tag)) for word, tag in nltk_tagged]\n",
    "    lemmatized_sentence = [lemmatizer.lemmatize(word, tag) if tag else word for word, tag in wordnet_tagged]\n",
    "    return ' '.join(lemmatized_sentence)"
   ]
  },
  {
   "cell_type": "code",
   "execution_count": 36,
   "id": "6acc28da",
   "metadata": {},
   "outputs": [],
   "source": [
    "tweet_data['cleaned_tweet'] = tweet_data['cleaned_tweet'].apply(lemmatize_sentence)"
   ]
  },
  {
   "cell_type": "code",
   "execution_count": 37,
   "id": "a9c9c25c",
   "metadata": {},
   "outputs": [
    {
     "data": {
      "text/html": [
       "<div>\n",
       "<style scoped>\n",
       "    .dataframe tbody tr th:only-of-type {\n",
       "        vertical-align: middle;\n",
       "    }\n",
       "\n",
       "    .dataframe tbody tr th {\n",
       "        vertical-align: top;\n",
       "    }\n",
       "\n",
       "    .dataframe thead th {\n",
       "        text-align: right;\n",
       "    }\n",
       "</style>\n",
       "<table border=\"1\" class=\"dataframe\">\n",
       "  <thead>\n",
       "    <tr style=\"text-align: right;\">\n",
       "      <th></th>\n",
       "      <th>tweet_author</th>\n",
       "      <th>tweet_text</th>\n",
       "      <th>cleaned_tweet</th>\n",
       "    </tr>\n",
       "  </thead>\n",
       "  <tbody>\n",
       "    <tr>\n",
       "      <th>0</th>\n",
       "      <td>Hematopoiesis News</td>\n",
       "      <td>⚕️ Scientists conducted a Phase II study of ac...</td>\n",
       "      <td>Scientists conduct Phase II study acalabrutini...</td>\n",
       "    </tr>\n",
       "    <tr>\n",
       "      <th>1</th>\n",
       "      <td>Michael Wang, MD</td>\n",
       "      <td>This phase 2 Acalabrutinib-Venetoclax (AV) tri...</td>\n",
       "      <td>This phase 2 Acalabrutinib Venetoclax AV trial...</td>\n",
       "    </tr>\n",
       "    <tr>\n",
       "      <th>2</th>\n",
       "      <td>1stOncology</td>\n",
       "      <td>#NICE backs #AstraZenecas #Calquence for #CLL ...</td>\n",
       "      <td>NICE back AstraZenecas Calquence CLL</td>\n",
       "    </tr>\n",
       "    <tr>\n",
       "      <th>3</th>\n",
       "      <td>Toby Eyre</td>\n",
       "      <td>#acalabrutinib is a valuable option in pts int...</td>\n",
       "      <td>acalabrutinib valuable option pt intolerant ib...</td>\n",
       "    </tr>\n",
       "    <tr>\n",
       "      <th>4</th>\n",
       "      <td>Lymphoma Hub</td>\n",
       "      <td>NICE has recommended the use of acalabrutinib ...</td>\n",
       "      <td>NICE recommend use acalabrutinib patient treat...</td>\n",
       "    </tr>\n",
       "    <tr>\n",
       "      <th>...</th>\n",
       "      <td>...</td>\n",
       "      <td>...</td>\n",
       "      <td>...</td>\n",
       "    </tr>\n",
       "    <tr>\n",
       "      <th>43342</th>\n",
       "      <td>Joy is a Lifestyle</td>\n",
       "      <td>Hanging out with Friends! :) #FF #CLL #Happine...</td>\n",
       "      <td>Hanging Friends FF CLL Happiness</td>\n",
       "    </tr>\n",
       "    <tr>\n",
       "      <th>43343</th>\n",
       "      <td>𝓒𝓻𝓲𝔃𝔃𝔂 𝓟𝓮𝓻𝓻𝔂🌹</td>\n",
       "      <td>Hanging out with Friends! :) #FF #CLL #Happine...</td>\n",
       "      <td>Hanging Friends FF CLL Happiness</td>\n",
       "    </tr>\n",
       "    <tr>\n",
       "      <th>43344</th>\n",
       "      <td>IQWiG</td>\n",
       "      <td>Zusatznutzen von #Idelalisib ist weder für #CL...</td>\n",
       "      <td>Zusatznutzen von Idelalisib ist weder für CLL ...</td>\n",
       "    </tr>\n",
       "    <tr>\n",
       "      <th>43345</th>\n",
       "      <td>Medibooks</td>\n",
       "      <td>#Hematología PTK2 EXPRESSION AND IMMUNOCHEMOTH...</td>\n",
       "      <td>Hematología PTK2 EXPRESSION AND IMMUNOCHEMOTHE...</td>\n",
       "    </tr>\n",
       "    <tr>\n",
       "      <th>43346</th>\n",
       "      <td>Medibooks</td>\n",
       "      <td>#Hematología MUTATIONS IN TLR/MYD88 PATHWAY ID...</td>\n",
       "      <td>Hematología MUTATIONS IN TLR MYD88 PATHWAY IDE...</td>\n",
       "    </tr>\n",
       "  </tbody>\n",
       "</table>\n",
       "<p>43347 rows × 3 columns</p>\n",
       "</div>"
      ],
      "text/plain": [
       "             tweet_author                                         tweet_text  \\\n",
       "0      Hematopoiesis News  ⚕️ Scientists conducted a Phase II study of ac...   \n",
       "1        Michael Wang, MD  This phase 2 Acalabrutinib-Venetoclax (AV) tri...   \n",
       "2             1stOncology  #NICE backs #AstraZenecas #Calquence for #CLL ...   \n",
       "3               Toby Eyre  #acalabrutinib is a valuable option in pts int...   \n",
       "4            Lymphoma Hub  NICE has recommended the use of acalabrutinib ...   \n",
       "...                   ...                                                ...   \n",
       "43342  Joy is a Lifestyle  Hanging out with Friends! :) #FF #CLL #Happine...   \n",
       "43343       𝓒𝓻𝓲𝔃𝔃𝔂 𝓟𝓮𝓻𝓻𝔂🌹  Hanging out with Friends! :) #FF #CLL #Happine...   \n",
       "43344               IQWiG  Zusatznutzen von #Idelalisib ist weder für #CL...   \n",
       "43345           Medibooks  #Hematología PTK2 EXPRESSION AND IMMUNOCHEMOTH...   \n",
       "43346           Medibooks  #Hematología MUTATIONS IN TLR/MYD88 PATHWAY ID...   \n",
       "\n",
       "                                           cleaned_tweet  \n",
       "0      Scientists conduct Phase II study acalabrutini...  \n",
       "1      This phase 2 Acalabrutinib Venetoclax AV trial...  \n",
       "2                   NICE back AstraZenecas Calquence CLL  \n",
       "3      acalabrutinib valuable option pt intolerant ib...  \n",
       "4      NICE recommend use acalabrutinib patient treat...  \n",
       "...                                                  ...  \n",
       "43342                   Hanging Friends FF CLL Happiness  \n",
       "43343                   Hanging Friends FF CLL Happiness  \n",
       "43344  Zusatznutzen von Idelalisib ist weder für CLL ...  \n",
       "43345  Hematología PTK2 EXPRESSION AND IMMUNOCHEMOTHE...  \n",
       "43346  Hematología MUTATIONS IN TLR MYD88 PATHWAY IDE...  \n",
       "\n",
       "[43347 rows x 3 columns]"
      ]
     },
     "execution_count": 37,
     "metadata": {},
     "output_type": "execute_result"
    }
   ],
   "source": [
    "tweet_data"
   ]
  },
  {
   "cell_type": "code",
   "execution_count": 38,
   "id": "2d4fa4da",
   "metadata": {},
   "outputs": [],
   "source": [
    "tweet_data.to_csv('final_cleaned_data.csv')"
   ]
  },
  {
   "cell_type": "markdown",
   "id": "01ceaebf",
   "metadata": {},
   "source": [
    "# Entity extraction"
   ]
  },
  {
   "cell_type": "code",
   "execution_count": 39,
   "id": "74b112fe",
   "metadata": {},
   "outputs": [],
   "source": [
    "tweet_data = pd.read_csv('final_cleaned_data.csv')"
   ]
  },
  {
   "cell_type": "code",
   "execution_count": 40,
   "id": "622a15c1",
   "metadata": {},
   "outputs": [],
   "source": [
    "NER = spacy.load(\"en_core_sci_sm\\en_core_sci_sm\")\n",
    "def find_entities(text):\n",
    "    doc = NER(str(text))\n",
    "    return [ent.text for ent in doc.ents]\n",
    "td_copy = tweet_data.copy(deep=True)\n",
    "td_copy[\"entities\"] = td_copy['cleaned_tweet'].apply(find_entities)"
   ]
  },
  {
   "cell_type": "code",
   "execution_count": 41,
   "id": "007020d1",
   "metadata": {},
   "outputs": [
    {
     "data": {
      "text/plain": [
       "['Hematología MUTATIONS', 'TLR', 'MYD88', 'PATHWAY', 'IDENTIFY', 'PATIENTS']"
      ]
     },
     "execution_count": 41,
     "metadata": {},
     "output_type": "execute_result"
    }
   ],
   "source": [
    "# 5:09\n",
    "# 5:13\n",
    "find_entities(tweet_data['cleaned_tweet'][43346])"
   ]
  },
  {
   "cell_type": "code",
   "execution_count": 42,
   "id": "eea10613",
   "metadata": {},
   "outputs": [
    {
     "data": {
      "text/html": [
       "<div>\n",
       "<style scoped>\n",
       "    .dataframe tbody tr th:only-of-type {\n",
       "        vertical-align: middle;\n",
       "    }\n",
       "\n",
       "    .dataframe tbody tr th {\n",
       "        vertical-align: top;\n",
       "    }\n",
       "\n",
       "    .dataframe thead th {\n",
       "        text-align: right;\n",
       "    }\n",
       "</style>\n",
       "<table border=\"1\" class=\"dataframe\">\n",
       "  <thead>\n",
       "    <tr style=\"text-align: right;\">\n",
       "      <th></th>\n",
       "      <th>Unnamed: 0</th>\n",
       "      <th>tweet_author</th>\n",
       "      <th>tweet_text</th>\n",
       "      <th>cleaned_tweet</th>\n",
       "      <th>entities</th>\n",
       "    </tr>\n",
       "  </thead>\n",
       "  <tbody>\n",
       "    <tr>\n",
       "      <th>0</th>\n",
       "      <td>0</td>\n",
       "      <td>Hematopoiesis News</td>\n",
       "      <td>⚕️ Scientists conducted a Phase II study of ac...</td>\n",
       "      <td>Scientists conduct Phase II study acalabrutini...</td>\n",
       "      <td>[Scientists conduct Phase II study, acalabruti...</td>\n",
       "    </tr>\n",
       "    <tr>\n",
       "      <th>1</th>\n",
       "      <td>1</td>\n",
       "      <td>Michael Wang, MD</td>\n",
       "      <td>This phase 2 Acalabrutinib-Venetoclax (AV) tri...</td>\n",
       "      <td>This phase 2 Acalabrutinib Venetoclax AV trial...</td>\n",
       "      <td>[phase 2, Acalabrutinib, AV trial, phase study...</td>\n",
       "    </tr>\n",
       "    <tr>\n",
       "      <th>2</th>\n",
       "      <td>2</td>\n",
       "      <td>1stOncology</td>\n",
       "      <td>#NICE backs #AstraZenecas #Calquence for #CLL ...</td>\n",
       "      <td>NICE back AstraZenecas Calquence CLL</td>\n",
       "      <td>[NICE, CLL]</td>\n",
       "    </tr>\n",
       "    <tr>\n",
       "      <th>3</th>\n",
       "      <td>3</td>\n",
       "      <td>Toby Eyre</td>\n",
       "      <td>#acalabrutinib is a valuable option in pts int...</td>\n",
       "      <td>acalabrutinib valuable option pt intolerant ib...</td>\n",
       "      <td>[acalabrutinib, intolerant, ibrutinib, data, C...</td>\n",
       "    </tr>\n",
       "    <tr>\n",
       "      <th>4</th>\n",
       "      <td>4</td>\n",
       "      <td>Lymphoma Hub</td>\n",
       "      <td>NICE has recommended the use of acalabrutinib ...</td>\n",
       "      <td>NICE recommend use acalabrutinib patient treat...</td>\n",
       "      <td>[NICE, acalabrutinib, patient, treatment, Find...</td>\n",
       "    </tr>\n",
       "    <tr>\n",
       "      <th>...</th>\n",
       "      <td>...</td>\n",
       "      <td>...</td>\n",
       "      <td>...</td>\n",
       "      <td>...</td>\n",
       "      <td>...</td>\n",
       "    </tr>\n",
       "    <tr>\n",
       "      <th>43342</th>\n",
       "      <td>43342</td>\n",
       "      <td>Joy is a Lifestyle</td>\n",
       "      <td>Hanging out with Friends! :) #FF #CLL #Happine...</td>\n",
       "      <td>Hanging Friends FF CLL Happiness</td>\n",
       "      <td>[Hanging Friends, FF, CLL]</td>\n",
       "    </tr>\n",
       "    <tr>\n",
       "      <th>43343</th>\n",
       "      <td>43343</td>\n",
       "      <td>𝓒𝓻𝓲𝔃𝔃𝔂 𝓟𝓮𝓻𝓻𝔂🌹</td>\n",
       "      <td>Hanging out with Friends! :) #FF #CLL #Happine...</td>\n",
       "      <td>Hanging Friends FF CLL Happiness</td>\n",
       "      <td>[Hanging Friends, FF, CLL]</td>\n",
       "    </tr>\n",
       "    <tr>\n",
       "      <th>43344</th>\n",
       "      <td>43344</td>\n",
       "      <td>IQWiG</td>\n",
       "      <td>Zusatznutzen von #Idelalisib ist weder für #CL...</td>\n",
       "      <td>Zusatznutzen von Idelalisib ist weder für CLL ...</td>\n",
       "      <td>[Zusatznutzen von Idelalisib, CLL, noch, folli...</td>\n",
       "    </tr>\n",
       "    <tr>\n",
       "      <th>43345</th>\n",
       "      <td>43345</td>\n",
       "      <td>Medibooks</td>\n",
       "      <td>#Hematología PTK2 EXPRESSION AND IMMUNOCHEMOTH...</td>\n",
       "      <td>Hematología PTK2 EXPRESSION AND IMMUNOCHEMOTHE...</td>\n",
       "      <td>[PTK2, EXPRESSION, IMMUNOCHEMOTHERAPY, CHRONIC...</td>\n",
       "    </tr>\n",
       "    <tr>\n",
       "      <th>43346</th>\n",
       "      <td>43346</td>\n",
       "      <td>Medibooks</td>\n",
       "      <td>#Hematología MUTATIONS IN TLR/MYD88 PATHWAY ID...</td>\n",
       "      <td>Hematología MUTATIONS IN TLR MYD88 PATHWAY IDE...</td>\n",
       "      <td>[Hematología MUTATIONS, TLR, MYD88, PATHWAY, I...</td>\n",
       "    </tr>\n",
       "  </tbody>\n",
       "</table>\n",
       "<p>43347 rows × 5 columns</p>\n",
       "</div>"
      ],
      "text/plain": [
       "       Unnamed: 0        tweet_author  \\\n",
       "0               0  Hematopoiesis News   \n",
       "1               1    Michael Wang, MD   \n",
       "2               2         1stOncology   \n",
       "3               3           Toby Eyre   \n",
       "4               4        Lymphoma Hub   \n",
       "...           ...                 ...   \n",
       "43342       43342  Joy is a Lifestyle   \n",
       "43343       43343       𝓒𝓻𝓲𝔃𝔃𝔂 𝓟𝓮𝓻𝓻𝔂🌹   \n",
       "43344       43344               IQWiG   \n",
       "43345       43345           Medibooks   \n",
       "43346       43346           Medibooks   \n",
       "\n",
       "                                              tweet_text  \\\n",
       "0      ⚕️ Scientists conducted a Phase II study of ac...   \n",
       "1      This phase 2 Acalabrutinib-Venetoclax (AV) tri...   \n",
       "2      #NICE backs #AstraZenecas #Calquence for #CLL ...   \n",
       "3      #acalabrutinib is a valuable option in pts int...   \n",
       "4      NICE has recommended the use of acalabrutinib ...   \n",
       "...                                                  ...   \n",
       "43342  Hanging out with Friends! :) #FF #CLL #Happine...   \n",
       "43343  Hanging out with Friends! :) #FF #CLL #Happine...   \n",
       "43344  Zusatznutzen von #Idelalisib ist weder für #CL...   \n",
       "43345  #Hematología PTK2 EXPRESSION AND IMMUNOCHEMOTH...   \n",
       "43346  #Hematología MUTATIONS IN TLR/MYD88 PATHWAY ID...   \n",
       "\n",
       "                                           cleaned_tweet  \\\n",
       "0      Scientists conduct Phase II study acalabrutini...   \n",
       "1      This phase 2 Acalabrutinib Venetoclax AV trial...   \n",
       "2                   NICE back AstraZenecas Calquence CLL   \n",
       "3      acalabrutinib valuable option pt intolerant ib...   \n",
       "4      NICE recommend use acalabrutinib patient treat...   \n",
       "...                                                  ...   \n",
       "43342                   Hanging Friends FF CLL Happiness   \n",
       "43343                   Hanging Friends FF CLL Happiness   \n",
       "43344  Zusatznutzen von Idelalisib ist weder für CLL ...   \n",
       "43345  Hematología PTK2 EXPRESSION AND IMMUNOCHEMOTHE...   \n",
       "43346  Hematología MUTATIONS IN TLR MYD88 PATHWAY IDE...   \n",
       "\n",
       "                                                entities  \n",
       "0      [Scientists conduct Phase II study, acalabruti...  \n",
       "1      [phase 2, Acalabrutinib, AV trial, phase study...  \n",
       "2                                            [NICE, CLL]  \n",
       "3      [acalabrutinib, intolerant, ibrutinib, data, C...  \n",
       "4      [NICE, acalabrutinib, patient, treatment, Find...  \n",
       "...                                                  ...  \n",
       "43342                         [Hanging Friends, FF, CLL]  \n",
       "43343                         [Hanging Friends, FF, CLL]  \n",
       "43344  [Zusatznutzen von Idelalisib, CLL, noch, folli...  \n",
       "43345  [PTK2, EXPRESSION, IMMUNOCHEMOTHERAPY, CHRONIC...  \n",
       "43346  [Hematología MUTATIONS, TLR, MYD88, PATHWAY, I...  \n",
       "\n",
       "[43347 rows x 5 columns]"
      ]
     },
     "execution_count": 42,
     "metadata": {},
     "output_type": "execute_result"
    }
   ],
   "source": [
    "td_copy"
   ]
  },
  {
   "cell_type": "code",
   "execution_count": 43,
   "id": "28019cd4",
   "metadata": {},
   "outputs": [],
   "source": [
    "total_entities=[]\n",
    "for i in td_copy[\"entities\"]:\n",
    "    total_entities.extend(i)"
   ]
  },
  {
   "cell_type": "code",
   "execution_count": 44,
   "id": "69f8e651",
   "metadata": {},
   "outputs": [],
   "source": [
    "entity_freq = pd.Series(total_entities)"
   ]
  },
  {
   "cell_type": "code",
   "execution_count": 45,
   "id": "6de4ea73",
   "metadata": {},
   "outputs": [],
   "source": [
    "entity_freq = entity_freq.value_counts().to_frame().reset_index().rename(columns = {'index':'entity',0:'frequency'})"
   ]
  },
  {
   "cell_type": "markdown",
   "id": "6bad5357",
   "metadata": {},
   "source": [
    "# objective 1"
   ]
  },
  {
   "cell_type": "code",
   "execution_count": 46,
   "id": "2ad29991",
   "metadata": {},
   "outputs": [],
   "source": [
    "entity_freq.to_csv('objective1.csv',index=False)"
   ]
  },
  {
   "cell_type": "code",
   "execution_count": 47,
   "id": "d3acd987",
   "metadata": {},
   "outputs": [],
   "source": [
    "entity_freq = pd.read_csv('objective1.csv')"
   ]
  },
  {
   "cell_type": "markdown",
   "id": "5597ea8c",
   "metadata": {},
   "source": [
    "# sentiment analysis"
   ]
  },
  {
   "cell_type": "code",
   "execution_count": 48,
   "id": "8bf75dfa",
   "metadata": {},
   "outputs": [],
   "source": [
    "td_copy2 = td_copy.copy(deep = True)"
   ]
  },
  {
   "cell_type": "code",
   "execution_count": 49,
   "id": "b6ebcb15",
   "metadata": {},
   "outputs": [],
   "source": [
    "td_copy2[\"entity\"] = td_copy2.loc[:,\"entities\"]"
   ]
  },
  {
   "cell_type": "code",
   "execution_count": 50,
   "id": "90340573",
   "metadata": {},
   "outputs": [
    {
     "data": {
      "text/html": [
       "<div>\n",
       "<style scoped>\n",
       "    .dataframe tbody tr th:only-of-type {\n",
       "        vertical-align: middle;\n",
       "    }\n",
       "\n",
       "    .dataframe tbody tr th {\n",
       "        vertical-align: top;\n",
       "    }\n",
       "\n",
       "    .dataframe thead th {\n",
       "        text-align: right;\n",
       "    }\n",
       "</style>\n",
       "<table border=\"1\" class=\"dataframe\">\n",
       "  <thead>\n",
       "    <tr style=\"text-align: right;\">\n",
       "      <th></th>\n",
       "      <th>Unnamed: 0</th>\n",
       "      <th>tweet_author</th>\n",
       "      <th>tweet_text</th>\n",
       "      <th>cleaned_tweet</th>\n",
       "      <th>entities</th>\n",
       "      <th>entity</th>\n",
       "    </tr>\n",
       "  </thead>\n",
       "  <tbody>\n",
       "    <tr>\n",
       "      <th>0</th>\n",
       "      <td>0</td>\n",
       "      <td>Hematopoiesis News</td>\n",
       "      <td>⚕️ Scientists conducted a Phase II study of ac...</td>\n",
       "      <td>Scientists conduct Phase II study acalabrutini...</td>\n",
       "      <td>[Scientists conduct Phase II study, acalabruti...</td>\n",
       "      <td>Scientists conduct Phase II study</td>\n",
       "    </tr>\n",
       "    <tr>\n",
       "      <th>0</th>\n",
       "      <td>0</td>\n",
       "      <td>Hematopoiesis News</td>\n",
       "      <td>⚕️ Scientists conducted a Phase II study of ac...</td>\n",
       "      <td>Scientists conduct Phase II study acalabrutini...</td>\n",
       "      <td>[Scientists conduct Phase II study, acalabruti...</td>\n",
       "      <td>acalabrutinib</td>\n",
       "    </tr>\n",
       "    <tr>\n",
       "      <th>0</th>\n",
       "      <td>0</td>\n",
       "      <td>Hematopoiesis News</td>\n",
       "      <td>⚕️ Scientists conducted a Phase II study of ac...</td>\n",
       "      <td>Scientists conduct Phase II study acalabrutini...</td>\n",
       "      <td>[Scientists conduct Phase II study, acalabruti...</td>\n",
       "      <td>patient</td>\n",
       "    </tr>\n",
       "    <tr>\n",
       "      <th>0</th>\n",
       "      <td>0</td>\n",
       "      <td>Hematopoiesis News</td>\n",
       "      <td>⚕️ Scientists conducted a Phase II study of ac...</td>\n",
       "      <td>Scientists conduct Phase II study acalabrutini...</td>\n",
       "      <td>[Scientists conduct Phase II study, acalabruti...</td>\n",
       "      <td>refractory</td>\n",
       "    </tr>\n",
       "    <tr>\n",
       "      <th>0</th>\n",
       "      <td>0</td>\n",
       "      <td>Hematopoiesis News</td>\n",
       "      <td>⚕️ Scientists conducted a Phase II study of ac...</td>\n",
       "      <td>Scientists conduct Phase II study acalabrutini...</td>\n",
       "      <td>[Scientists conduct Phase II study, acalabruti...</td>\n",
       "      <td>CLL</td>\n",
       "    </tr>\n",
       "    <tr>\n",
       "      <th>...</th>\n",
       "      <td>...</td>\n",
       "      <td>...</td>\n",
       "      <td>...</td>\n",
       "      <td>...</td>\n",
       "      <td>...</td>\n",
       "      <td>...</td>\n",
       "    </tr>\n",
       "    <tr>\n",
       "      <th>43346</th>\n",
       "      <td>43346</td>\n",
       "      <td>Medibooks</td>\n",
       "      <td>#Hematología MUTATIONS IN TLR/MYD88 PATHWAY ID...</td>\n",
       "      <td>Hematología MUTATIONS IN TLR MYD88 PATHWAY IDE...</td>\n",
       "      <td>[Hematología MUTATIONS, TLR, MYD88, PATHWAY, I...</td>\n",
       "      <td>TLR</td>\n",
       "    </tr>\n",
       "    <tr>\n",
       "      <th>43346</th>\n",
       "      <td>43346</td>\n",
       "      <td>Medibooks</td>\n",
       "      <td>#Hematología MUTATIONS IN TLR/MYD88 PATHWAY ID...</td>\n",
       "      <td>Hematología MUTATIONS IN TLR MYD88 PATHWAY IDE...</td>\n",
       "      <td>[Hematología MUTATIONS, TLR, MYD88, PATHWAY, I...</td>\n",
       "      <td>MYD88</td>\n",
       "    </tr>\n",
       "    <tr>\n",
       "      <th>43346</th>\n",
       "      <td>43346</td>\n",
       "      <td>Medibooks</td>\n",
       "      <td>#Hematología MUTATIONS IN TLR/MYD88 PATHWAY ID...</td>\n",
       "      <td>Hematología MUTATIONS IN TLR MYD88 PATHWAY IDE...</td>\n",
       "      <td>[Hematología MUTATIONS, TLR, MYD88, PATHWAY, I...</td>\n",
       "      <td>PATHWAY</td>\n",
       "    </tr>\n",
       "    <tr>\n",
       "      <th>43346</th>\n",
       "      <td>43346</td>\n",
       "      <td>Medibooks</td>\n",
       "      <td>#Hematología MUTATIONS IN TLR/MYD88 PATHWAY ID...</td>\n",
       "      <td>Hematología MUTATIONS IN TLR MYD88 PATHWAY IDE...</td>\n",
       "      <td>[Hematología MUTATIONS, TLR, MYD88, PATHWAY, I...</td>\n",
       "      <td>IDENTIFY</td>\n",
       "    </tr>\n",
       "    <tr>\n",
       "      <th>43346</th>\n",
       "      <td>43346</td>\n",
       "      <td>Medibooks</td>\n",
       "      <td>#Hematología MUTATIONS IN TLR/MYD88 PATHWAY ID...</td>\n",
       "      <td>Hematología MUTATIONS IN TLR MYD88 PATHWAY IDE...</td>\n",
       "      <td>[Hematología MUTATIONS, TLR, MYD88, PATHWAY, I...</td>\n",
       "      <td>PATIENTS</td>\n",
       "    </tr>\n",
       "  </tbody>\n",
       "</table>\n",
       "<p>250907 rows × 6 columns</p>\n",
       "</div>"
      ],
      "text/plain": [
       "       Unnamed: 0        tweet_author  \\\n",
       "0               0  Hematopoiesis News   \n",
       "0               0  Hematopoiesis News   \n",
       "0               0  Hematopoiesis News   \n",
       "0               0  Hematopoiesis News   \n",
       "0               0  Hematopoiesis News   \n",
       "...           ...                 ...   \n",
       "43346       43346           Medibooks   \n",
       "43346       43346           Medibooks   \n",
       "43346       43346           Medibooks   \n",
       "43346       43346           Medibooks   \n",
       "43346       43346           Medibooks   \n",
       "\n",
       "                                              tweet_text  \\\n",
       "0      ⚕️ Scientists conducted a Phase II study of ac...   \n",
       "0      ⚕️ Scientists conducted a Phase II study of ac...   \n",
       "0      ⚕️ Scientists conducted a Phase II study of ac...   \n",
       "0      ⚕️ Scientists conducted a Phase II study of ac...   \n",
       "0      ⚕️ Scientists conducted a Phase II study of ac...   \n",
       "...                                                  ...   \n",
       "43346  #Hematología MUTATIONS IN TLR/MYD88 PATHWAY ID...   \n",
       "43346  #Hematología MUTATIONS IN TLR/MYD88 PATHWAY ID...   \n",
       "43346  #Hematología MUTATIONS IN TLR/MYD88 PATHWAY ID...   \n",
       "43346  #Hematología MUTATIONS IN TLR/MYD88 PATHWAY ID...   \n",
       "43346  #Hematología MUTATIONS IN TLR/MYD88 PATHWAY ID...   \n",
       "\n",
       "                                           cleaned_tweet  \\\n",
       "0      Scientists conduct Phase II study acalabrutini...   \n",
       "0      Scientists conduct Phase II study acalabrutini...   \n",
       "0      Scientists conduct Phase II study acalabrutini...   \n",
       "0      Scientists conduct Phase II study acalabrutini...   \n",
       "0      Scientists conduct Phase II study acalabrutini...   \n",
       "...                                                  ...   \n",
       "43346  Hematología MUTATIONS IN TLR MYD88 PATHWAY IDE...   \n",
       "43346  Hematología MUTATIONS IN TLR MYD88 PATHWAY IDE...   \n",
       "43346  Hematología MUTATIONS IN TLR MYD88 PATHWAY IDE...   \n",
       "43346  Hematología MUTATIONS IN TLR MYD88 PATHWAY IDE...   \n",
       "43346  Hematología MUTATIONS IN TLR MYD88 PATHWAY IDE...   \n",
       "\n",
       "                                                entities  \\\n",
       "0      [Scientists conduct Phase II study, acalabruti...   \n",
       "0      [Scientists conduct Phase II study, acalabruti...   \n",
       "0      [Scientists conduct Phase II study, acalabruti...   \n",
       "0      [Scientists conduct Phase II study, acalabruti...   \n",
       "0      [Scientists conduct Phase II study, acalabruti...   \n",
       "...                                                  ...   \n",
       "43346  [Hematología MUTATIONS, TLR, MYD88, PATHWAY, I...   \n",
       "43346  [Hematología MUTATIONS, TLR, MYD88, PATHWAY, I...   \n",
       "43346  [Hematología MUTATIONS, TLR, MYD88, PATHWAY, I...   \n",
       "43346  [Hematología MUTATIONS, TLR, MYD88, PATHWAY, I...   \n",
       "43346  [Hematología MUTATIONS, TLR, MYD88, PATHWAY, I...   \n",
       "\n",
       "                                  entity  \n",
       "0      Scientists conduct Phase II study  \n",
       "0                          acalabrutinib  \n",
       "0                                patient  \n",
       "0                             refractory  \n",
       "0                                    CLL  \n",
       "...                                  ...  \n",
       "43346                                TLR  \n",
       "43346                              MYD88  \n",
       "43346                            PATHWAY  \n",
       "43346                           IDENTIFY  \n",
       "43346                           PATIENTS  \n",
       "\n",
       "[250907 rows x 6 columns]"
      ]
     },
     "execution_count": 50,
     "metadata": {},
     "output_type": "execute_result"
    }
   ],
   "source": [
    "td_copy2 = td_copy2.explode(\"entity\")\n",
    "td_copy2"
   ]
  },
  {
   "cell_type": "code",
   "execution_count": 51,
   "id": "1f7fbfb2",
   "metadata": {},
   "outputs": [],
   "source": [
    "td_copy2.to_csv('tweets_and_entities.csv')"
   ]
  },
  {
   "cell_type": "code",
   "execution_count": 52,
   "id": "7c50a33f",
   "metadata": {},
   "outputs": [
    {
     "data": {
      "text/html": [
       "<div>\n",
       "<style scoped>\n",
       "    .dataframe tbody tr th:only-of-type {\n",
       "        vertical-align: middle;\n",
       "    }\n",
       "\n",
       "    .dataframe tbody tr th {\n",
       "        vertical-align: top;\n",
       "    }\n",
       "\n",
       "    .dataframe thead th {\n",
       "        text-align: right;\n",
       "    }\n",
       "</style>\n",
       "<table border=\"1\" class=\"dataframe\">\n",
       "  <thead>\n",
       "    <tr style=\"text-align: right;\">\n",
       "      <th></th>\n",
       "      <th>Unnamed: 0.1</th>\n",
       "      <th>Unnamed: 0</th>\n",
       "      <th>tweet_author</th>\n",
       "      <th>tweet_text</th>\n",
       "      <th>cleaned_tweet</th>\n",
       "      <th>entities</th>\n",
       "      <th>entity</th>\n",
       "    </tr>\n",
       "  </thead>\n",
       "  <tbody>\n",
       "    <tr>\n",
       "      <th>0</th>\n",
       "      <td>0</td>\n",
       "      <td>0</td>\n",
       "      <td>Hematopoiesis News</td>\n",
       "      <td>⚕️ Scientists conducted a Phase II study of ac...</td>\n",
       "      <td>Scientists conduct Phase II study acalabrutini...</td>\n",
       "      <td>['Scientists conduct Phase II study', 'acalabr...</td>\n",
       "      <td>Scientists conduct Phase II study</td>\n",
       "    </tr>\n",
       "    <tr>\n",
       "      <th>1</th>\n",
       "      <td>0</td>\n",
       "      <td>0</td>\n",
       "      <td>Hematopoiesis News</td>\n",
       "      <td>⚕️ Scientists conducted a Phase II study of ac...</td>\n",
       "      <td>Scientists conduct Phase II study acalabrutini...</td>\n",
       "      <td>['Scientists conduct Phase II study', 'acalabr...</td>\n",
       "      <td>acalabrutinib</td>\n",
       "    </tr>\n",
       "    <tr>\n",
       "      <th>2</th>\n",
       "      <td>0</td>\n",
       "      <td>0</td>\n",
       "      <td>Hematopoiesis News</td>\n",
       "      <td>⚕️ Scientists conducted a Phase II study of ac...</td>\n",
       "      <td>Scientists conduct Phase II study acalabrutini...</td>\n",
       "      <td>['Scientists conduct Phase II study', 'acalabr...</td>\n",
       "      <td>patient</td>\n",
       "    </tr>\n",
       "    <tr>\n",
       "      <th>3</th>\n",
       "      <td>0</td>\n",
       "      <td>0</td>\n",
       "      <td>Hematopoiesis News</td>\n",
       "      <td>⚕️ Scientists conducted a Phase II study of ac...</td>\n",
       "      <td>Scientists conduct Phase II study acalabrutini...</td>\n",
       "      <td>['Scientists conduct Phase II study', 'acalabr...</td>\n",
       "      <td>refractory</td>\n",
       "    </tr>\n",
       "    <tr>\n",
       "      <th>4</th>\n",
       "      <td>0</td>\n",
       "      <td>0</td>\n",
       "      <td>Hematopoiesis News</td>\n",
       "      <td>⚕️ Scientists conducted a Phase II study of ac...</td>\n",
       "      <td>Scientists conduct Phase II study acalabrutini...</td>\n",
       "      <td>['Scientists conduct Phase II study', 'acalabr...</td>\n",
       "      <td>CLL</td>\n",
       "    </tr>\n",
       "  </tbody>\n",
       "</table>\n",
       "</div>"
      ],
      "text/plain": [
       "   Unnamed: 0.1  Unnamed: 0        tweet_author  \\\n",
       "0             0           0  Hematopoiesis News   \n",
       "1             0           0  Hematopoiesis News   \n",
       "2             0           0  Hematopoiesis News   \n",
       "3             0           0  Hematopoiesis News   \n",
       "4             0           0  Hematopoiesis News   \n",
       "\n",
       "                                          tweet_text  \\\n",
       "0  ⚕️ Scientists conducted a Phase II study of ac...   \n",
       "1  ⚕️ Scientists conducted a Phase II study of ac...   \n",
       "2  ⚕️ Scientists conducted a Phase II study of ac...   \n",
       "3  ⚕️ Scientists conducted a Phase II study of ac...   \n",
       "4  ⚕️ Scientists conducted a Phase II study of ac...   \n",
       "\n",
       "                                       cleaned_tweet  \\\n",
       "0  Scientists conduct Phase II study acalabrutini...   \n",
       "1  Scientists conduct Phase II study acalabrutini...   \n",
       "2  Scientists conduct Phase II study acalabrutini...   \n",
       "3  Scientists conduct Phase II study acalabrutini...   \n",
       "4  Scientists conduct Phase II study acalabrutini...   \n",
       "\n",
       "                                            entities  \\\n",
       "0  ['Scientists conduct Phase II study', 'acalabr...   \n",
       "1  ['Scientists conduct Phase II study', 'acalabr...   \n",
       "2  ['Scientists conduct Phase II study', 'acalabr...   \n",
       "3  ['Scientists conduct Phase II study', 'acalabr...   \n",
       "4  ['Scientists conduct Phase II study', 'acalabr...   \n",
       "\n",
       "                              entity  \n",
       "0  Scientists conduct Phase II study  \n",
       "1                      acalabrutinib  \n",
       "2                            patient  \n",
       "3                         refractory  \n",
       "4                                CLL  "
      ]
     },
     "execution_count": 52,
     "metadata": {},
     "output_type": "execute_result"
    }
   ],
   "source": [
    "td_copy2 = pd.read_csv('tweets_and_entities.csv')\n",
    "td_copy2.head()"
   ]
  },
  {
   "cell_type": "code",
   "execution_count": 53,
   "id": "c311e7be",
   "metadata": {},
   "outputs": [
    {
     "data": {
      "text/plain": [
       "(250907, 7)"
      ]
     },
     "execution_count": 53,
     "metadata": {},
     "output_type": "execute_result"
    }
   ],
   "source": [
    "td_copy2.shape"
   ]
  },
  {
   "cell_type": "code",
   "execution_count": 54,
   "id": "582be2d4",
   "metadata": {},
   "outputs": [],
   "source": [
    "# Initialize the sentiment analyzer\n",
    "SIA = SentimentIntensityAnalyzer()"
   ]
  },
  {
   "cell_type": "code",
   "execution_count": 55,
   "id": "ea63f533",
   "metadata": {},
   "outputs": [],
   "source": [
    "def sentiment_of_entity(df):\n",
    "    entity = str(df['entity']).split()\n",
    "    tweet = str(df['cleaned_tweet'])\n",
    "    \n",
    "    # getting tokens\n",
    "    tokens = word_tokenize(tweet)\n",
    "    \n",
    "    # getting entity_index\n",
    "    entity_index = []\n",
    "    for i in range(len(tokens)):\n",
    "        if entity[0] == tokens[i]:\n",
    "            entity_index.append(i)\n",
    "            \n",
    "    # getting words around it\n",
    "    cropped_text = []\n",
    "    for i in entity_index:\n",
    "        cropped_text = tokens[i-5:i+5]\n",
    "        if len(cropped_text) == 0:\n",
    "            cropped_text = tokens[i-i:i+5]\n",
    "    cropped_text = ' '.join(cropped_text)\n",
    "    # getting sentiment of entity\n",
    "    sentiment_of_entity = SIA.polarity_scores(cropped_text)\n",
    "    score = sentiment_of_entity['compound']\n",
    "    if score == 0:\n",
    "        return 'Neutral'\n",
    "    elif score > 0:\n",
    "        return 'Positive'\n",
    "    elif score < 0:\n",
    "        return 'Negative'\n",
    "    else:\n",
    "        return (tweet,entity)"
   ]
  },
  {
   "cell_type": "code",
   "execution_count": 56,
   "id": "86756bcb",
   "metadata": {
    "scrolled": false
   },
   "outputs": [],
   "source": [
    "td_copy2['sentiment'] = td_copy2.apply(sentiment_of_entity,axis = 1)"
   ]
  },
  {
   "cell_type": "code",
   "execution_count": 57,
   "id": "2489ba65",
   "metadata": {},
   "outputs": [
    {
     "name": "stdout",
     "output_type": "stream",
     "text": [
      "\n",
      "author : Hematopoiesis News\n",
      "\n",
      "tweet : ⚕️ Scientists conducted a Phase II study of acalabrutinib in patients with relapsed/refractory #CLL who were ibrutinib-intolerant, and found an overall response rate of 73%. \n",
      "https://t.co/eJ6m4QpC5P https://t.co/kuZz6ZO47r\n",
      "\n",
      "entity : acalabrutinib\n",
      "\n",
      "sentiment : Neutral\n",
      "\n"
     ]
    }
   ],
   "source": [
    "x = td_copy2.iloc[1]\n",
    "print(f'''\n",
    "author : {x['tweet_author']}\n",
    "\n",
    "tweet : {x['tweet_text']}\n",
    "\n",
    "entity : {x['entity']}\n",
    "\n",
    "sentiment : {x['sentiment']}\n",
    "''')"
   ]
  },
  {
   "cell_type": "code",
   "execution_count": 58,
   "id": "55f2ab9f",
   "metadata": {},
   "outputs": [
    {
     "data": {
      "text/html": [
       "<div>\n",
       "<style scoped>\n",
       "    .dataframe tbody tr th:only-of-type {\n",
       "        vertical-align: middle;\n",
       "    }\n",
       "\n",
       "    .dataframe tbody tr th {\n",
       "        vertical-align: top;\n",
       "    }\n",
       "\n",
       "    .dataframe thead th {\n",
       "        text-align: right;\n",
       "    }\n",
       "</style>\n",
       "<table border=\"1\" class=\"dataframe\">\n",
       "  <thead>\n",
       "    <tr style=\"text-align: right;\">\n",
       "      <th></th>\n",
       "      <th>Unnamed: 0.1</th>\n",
       "      <th>Unnamed: 0</th>\n",
       "      <th>tweet_author</th>\n",
       "      <th>tweet_text</th>\n",
       "      <th>cleaned_tweet</th>\n",
       "      <th>entities</th>\n",
       "      <th>entity</th>\n",
       "      <th>sentiment</th>\n",
       "    </tr>\n",
       "  </thead>\n",
       "  <tbody>\n",
       "    <tr>\n",
       "      <th>0</th>\n",
       "      <td>0</td>\n",
       "      <td>0</td>\n",
       "      <td>Hematopoiesis News</td>\n",
       "      <td>⚕️ Scientists conducted a Phase II study of ac...</td>\n",
       "      <td>Scientists conduct Phase II study acalabrutini...</td>\n",
       "      <td>['Scientists conduct Phase II study', 'acalabr...</td>\n",
       "      <td>Scientists conduct Phase II study</td>\n",
       "      <td>Neutral</td>\n",
       "    </tr>\n",
       "    <tr>\n",
       "      <th>1</th>\n",
       "      <td>0</td>\n",
       "      <td>0</td>\n",
       "      <td>Hematopoiesis News</td>\n",
       "      <td>⚕️ Scientists conducted a Phase II study of ac...</td>\n",
       "      <td>Scientists conduct Phase II study acalabrutini...</td>\n",
       "      <td>['Scientists conduct Phase II study', 'acalabr...</td>\n",
       "      <td>acalabrutinib</td>\n",
       "      <td>Neutral</td>\n",
       "    </tr>\n",
       "    <tr>\n",
       "      <th>2</th>\n",
       "      <td>0</td>\n",
       "      <td>0</td>\n",
       "      <td>Hematopoiesis News</td>\n",
       "      <td>⚕️ Scientists conducted a Phase II study of ac...</td>\n",
       "      <td>Scientists conduct Phase II study acalabrutini...</td>\n",
       "      <td>['Scientists conduct Phase II study', 'acalabr...</td>\n",
       "      <td>patient</td>\n",
       "      <td>Neutral</td>\n",
       "    </tr>\n",
       "    <tr>\n",
       "      <th>3</th>\n",
       "      <td>0</td>\n",
       "      <td>0</td>\n",
       "      <td>Hematopoiesis News</td>\n",
       "      <td>⚕️ Scientists conducted a Phase II study of ac...</td>\n",
       "      <td>Scientists conduct Phase II study acalabrutini...</td>\n",
       "      <td>['Scientists conduct Phase II study', 'acalabr...</td>\n",
       "      <td>refractory</td>\n",
       "      <td>Neutral</td>\n",
       "    </tr>\n",
       "    <tr>\n",
       "      <th>4</th>\n",
       "      <td>0</td>\n",
       "      <td>0</td>\n",
       "      <td>Hematopoiesis News</td>\n",
       "      <td>⚕️ Scientists conducted a Phase II study of ac...</td>\n",
       "      <td>Scientists conduct Phase II study acalabrutini...</td>\n",
       "      <td>['Scientists conduct Phase II study', 'acalabr...</td>\n",
       "      <td>CLL</td>\n",
       "      <td>Neutral</td>\n",
       "    </tr>\n",
       "  </tbody>\n",
       "</table>\n",
       "</div>"
      ],
      "text/plain": [
       "   Unnamed: 0.1  Unnamed: 0        tweet_author  \\\n",
       "0             0           0  Hematopoiesis News   \n",
       "1             0           0  Hematopoiesis News   \n",
       "2             0           0  Hematopoiesis News   \n",
       "3             0           0  Hematopoiesis News   \n",
       "4             0           0  Hematopoiesis News   \n",
       "\n",
       "                                          tweet_text  \\\n",
       "0  ⚕️ Scientists conducted a Phase II study of ac...   \n",
       "1  ⚕️ Scientists conducted a Phase II study of ac...   \n",
       "2  ⚕️ Scientists conducted a Phase II study of ac...   \n",
       "3  ⚕️ Scientists conducted a Phase II study of ac...   \n",
       "4  ⚕️ Scientists conducted a Phase II study of ac...   \n",
       "\n",
       "                                       cleaned_tweet  \\\n",
       "0  Scientists conduct Phase II study acalabrutini...   \n",
       "1  Scientists conduct Phase II study acalabrutini...   \n",
       "2  Scientists conduct Phase II study acalabrutini...   \n",
       "3  Scientists conduct Phase II study acalabrutini...   \n",
       "4  Scientists conduct Phase II study acalabrutini...   \n",
       "\n",
       "                                            entities  \\\n",
       "0  ['Scientists conduct Phase II study', 'acalabr...   \n",
       "1  ['Scientists conduct Phase II study', 'acalabr...   \n",
       "2  ['Scientists conduct Phase II study', 'acalabr...   \n",
       "3  ['Scientists conduct Phase II study', 'acalabr...   \n",
       "4  ['Scientists conduct Phase II study', 'acalabr...   \n",
       "\n",
       "                              entity sentiment  \n",
       "0  Scientists conduct Phase II study   Neutral  \n",
       "1                      acalabrutinib   Neutral  \n",
       "2                            patient   Neutral  \n",
       "3                         refractory   Neutral  \n",
       "4                                CLL   Neutral  "
      ]
     },
     "execution_count": 58,
     "metadata": {},
     "output_type": "execute_result"
    }
   ],
   "source": [
    "td_copy2.head()"
   ]
  },
  {
   "cell_type": "code",
   "execution_count": 59,
   "id": "e0420db6",
   "metadata": {},
   "outputs": [],
   "source": [
    "sentiment_for_tweet = td_copy2.loc[:,[\"entity\",\"tweet_author\",\"sentiment\"]]\n",
    "sentiment_for_tweet.rename(columns={\"entity\":\"entity\",\n",
    "                                    \"tweet_author\":\"author_name\",\n",
    "                                    \"sentiment\":\"overall_polarity\"},inplace = True)\n"
   ]
  },
  {
   "cell_type": "code",
   "execution_count": 60,
   "id": "88e37ac7",
   "metadata": {},
   "outputs": [
    {
     "data": {
      "text/plain": [
       "Neutral     149924\n",
       "Positive     68616\n",
       "Negative     32367\n",
       "Name: overall_polarity, dtype: int64"
      ]
     },
     "execution_count": 60,
     "metadata": {},
     "output_type": "execute_result"
    }
   ],
   "source": [
    "sentiment_for_tweet['overall_polarity'].value_counts()"
   ]
  },
  {
   "cell_type": "code",
   "execution_count": 61,
   "id": "e25c0db3",
   "metadata": {},
   "outputs": [],
   "source": [
    "sentiment_for_tweet.to_csv('objective2.csv',index=False)"
   ]
  }
 ],
 "metadata": {
  "kernelspec": {
   "display_name": "Python 3 (ipykernel)",
   "language": "python",
   "name": "python3"
  },
  "language_info": {
   "codemirror_mode": {
    "name": "ipython",
    "version": 3
   },
   "file_extension": ".py",
   "mimetype": "text/x-python",
   "name": "python",
   "nbconvert_exporter": "python",
   "pygments_lexer": "ipython3",
   "version": "3.10.9"
  }
 },
 "nbformat": 4,
 "nbformat_minor": 5
}
